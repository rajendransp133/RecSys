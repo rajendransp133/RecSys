{
 "cells": [
  {
   "cell_type": "code",
   "execution_count": 1,
   "id": "ea668232",
   "metadata": {},
   "outputs": [],
   "source": [
    "import pandas as pd\n",
    "import numpy as np"
   ]
  },
  {
   "cell_type": "markdown",
   "id": "3ce9b3c3",
   "metadata": {},
   "source": [
    "# IMPORT DATASET "
   ]
  },
  {
   "cell_type": "code",
   "execution_count": 2,
   "id": "4526d4e7",
   "metadata": {},
   "outputs": [],
   "source": [
    "import warnings\n",
    "warnings.filterwarnings('ignore')\n",
    "\n",
    "books = pd.read_csv(r\"dataset/Books.csv\", delimiter=';', error_bad_lines=False, encoding='ISO-8859-1', warn_bad_lines=False)\n",
    "users = pd.read_csv(r\"dataset/Users.csv\", delimiter=';', error_bad_lines=False, encoding='ISO-8859-1', warn_bad_lines=False)\n",
    "ratings = pd.read_csv(r\"dataset/Book-Ratings.csv\", delimiter=';', error_bad_lines=False, encoding='ISO-8859-1', warn_bad_lines=False)"
   ]
  },
  {
   "cell_type": "markdown",
   "id": "e4420aa9",
   "metadata": {},
   "source": [
    "# PREPROCESSING BOOKS_DF"
   ]
  },
  {
   "cell_type": "code",
   "execution_count": 3,
   "id": "5547ee45",
   "metadata": {},
   "outputs": [
    {
     "data": {
      "text/html": [
       "<div>\n",
       "<style scoped>\n",
       "    .dataframe tbody tr th:only-of-type {\n",
       "        vertical-align: middle;\n",
       "    }\n",
       "\n",
       "    .dataframe tbody tr th {\n",
       "        vertical-align: top;\n",
       "    }\n",
       "\n",
       "    .dataframe thead th {\n",
       "        text-align: right;\n",
       "    }\n",
       "</style>\n",
       "<table border=\"1\" class=\"dataframe\">\n",
       "  <thead>\n",
       "    <tr style=\"text-align: right;\">\n",
       "      <th></th>\n",
       "      <th>ISBN</th>\n",
       "      <th>Book-Title</th>\n",
       "      <th>Book-Author</th>\n",
       "      <th>Year-Of-Publication</th>\n",
       "      <th>Publisher</th>\n",
       "      <th>Image-URL-S</th>\n",
       "      <th>Image-URL-M</th>\n",
       "      <th>Image-URL-L</th>\n",
       "    </tr>\n",
       "  </thead>\n",
       "  <tbody>\n",
       "    <tr>\n",
       "      <th>0</th>\n",
       "      <td>0195153448</td>\n",
       "      <td>Classical Mythology</td>\n",
       "      <td>Mark P. O. Morford</td>\n",
       "      <td>2002</td>\n",
       "      <td>Oxford University Press</td>\n",
       "      <td>http://images.amazon.com/images/P/0195153448.0...</td>\n",
       "      <td>http://images.amazon.com/images/P/0195153448.0...</td>\n",
       "      <td>http://images.amazon.com/images/P/0195153448.0...</td>\n",
       "    </tr>\n",
       "    <tr>\n",
       "      <th>1</th>\n",
       "      <td>0002005018</td>\n",
       "      <td>Clara Callan</td>\n",
       "      <td>Richard Bruce Wright</td>\n",
       "      <td>2001</td>\n",
       "      <td>HarperFlamingo Canada</td>\n",
       "      <td>http://images.amazon.com/images/P/0002005018.0...</td>\n",
       "      <td>http://images.amazon.com/images/P/0002005018.0...</td>\n",
       "      <td>http://images.amazon.com/images/P/0002005018.0...</td>\n",
       "    </tr>\n",
       "    <tr>\n",
       "      <th>2</th>\n",
       "      <td>0060973129</td>\n",
       "      <td>Decision in Normandy</td>\n",
       "      <td>Carlo D'Este</td>\n",
       "      <td>1991</td>\n",
       "      <td>HarperPerennial</td>\n",
       "      <td>http://images.amazon.com/images/P/0060973129.0...</td>\n",
       "      <td>http://images.amazon.com/images/P/0060973129.0...</td>\n",
       "      <td>http://images.amazon.com/images/P/0060973129.0...</td>\n",
       "    </tr>\n",
       "    <tr>\n",
       "      <th>3</th>\n",
       "      <td>0374157065</td>\n",
       "      <td>Flu: The Story of the Great Influenza Pandemic...</td>\n",
       "      <td>Gina Bari Kolata</td>\n",
       "      <td>1999</td>\n",
       "      <td>Farrar Straus Giroux</td>\n",
       "      <td>http://images.amazon.com/images/P/0374157065.0...</td>\n",
       "      <td>http://images.amazon.com/images/P/0374157065.0...</td>\n",
       "      <td>http://images.amazon.com/images/P/0374157065.0...</td>\n",
       "    </tr>\n",
       "    <tr>\n",
       "      <th>4</th>\n",
       "      <td>0393045218</td>\n",
       "      <td>The Mummies of Urumchi</td>\n",
       "      <td>E. J. W. Barber</td>\n",
       "      <td>1999</td>\n",
       "      <td>W. W. Norton &amp;amp; Company</td>\n",
       "      <td>http://images.amazon.com/images/P/0393045218.0...</td>\n",
       "      <td>http://images.amazon.com/images/P/0393045218.0...</td>\n",
       "      <td>http://images.amazon.com/images/P/0393045218.0...</td>\n",
       "    </tr>\n",
       "  </tbody>\n",
       "</table>\n",
       "</div>"
      ],
      "text/plain": [
       "         ISBN                                         Book-Title  \\\n",
       "0  0195153448                                Classical Mythology   \n",
       "1  0002005018                                       Clara Callan   \n",
       "2  0060973129                               Decision in Normandy   \n",
       "3  0374157065  Flu: The Story of the Great Influenza Pandemic...   \n",
       "4  0393045218                             The Mummies of Urumchi   \n",
       "\n",
       "            Book-Author Year-Of-Publication                   Publisher  \\\n",
       "0    Mark P. O. Morford                2002     Oxford University Press   \n",
       "1  Richard Bruce Wright                2001       HarperFlamingo Canada   \n",
       "2          Carlo D'Este                1991             HarperPerennial   \n",
       "3      Gina Bari Kolata                1999        Farrar Straus Giroux   \n",
       "4       E. J. W. Barber                1999  W. W. Norton &amp; Company   \n",
       "\n",
       "                                         Image-URL-S  \\\n",
       "0  http://images.amazon.com/images/P/0195153448.0...   \n",
       "1  http://images.amazon.com/images/P/0002005018.0...   \n",
       "2  http://images.amazon.com/images/P/0060973129.0...   \n",
       "3  http://images.amazon.com/images/P/0374157065.0...   \n",
       "4  http://images.amazon.com/images/P/0393045218.0...   \n",
       "\n",
       "                                         Image-URL-M  \\\n",
       "0  http://images.amazon.com/images/P/0195153448.0...   \n",
       "1  http://images.amazon.com/images/P/0002005018.0...   \n",
       "2  http://images.amazon.com/images/P/0060973129.0...   \n",
       "3  http://images.amazon.com/images/P/0374157065.0...   \n",
       "4  http://images.amazon.com/images/P/0393045218.0...   \n",
       "\n",
       "                                         Image-URL-L  \n",
       "0  http://images.amazon.com/images/P/0195153448.0...  \n",
       "1  http://images.amazon.com/images/P/0002005018.0...  \n",
       "2  http://images.amazon.com/images/P/0060973129.0...  \n",
       "3  http://images.amazon.com/images/P/0374157065.0...  \n",
       "4  http://images.amazon.com/images/P/0393045218.0...  "
      ]
     },
     "execution_count": 3,
     "metadata": {},
     "output_type": "execute_result"
    }
   ],
   "source": [
    "books.head()"
   ]
  },
  {
   "cell_type": "code",
   "execution_count": 4,
   "id": "60717a1e",
   "metadata": {},
   "outputs": [],
   "source": [
    "books.drop(['Image-URL-S', 'Image-URL-M', 'Image-URL-L'], axis=1, inplace=True)"
   ]
  },
  {
   "cell_type": "code",
   "execution_count": 5,
   "id": "eafbb7c7",
   "metadata": {},
   "outputs": [
    {
     "data": {
      "text/html": [
       "<div>\n",
       "<style scoped>\n",
       "    .dataframe tbody tr th:only-of-type {\n",
       "        vertical-align: middle;\n",
       "    }\n",
       "\n",
       "    .dataframe tbody tr th {\n",
       "        vertical-align: top;\n",
       "    }\n",
       "\n",
       "    .dataframe thead th {\n",
       "        text-align: right;\n",
       "    }\n",
       "</style>\n",
       "<table border=\"1\" class=\"dataframe\">\n",
       "  <thead>\n",
       "    <tr style=\"text-align: right;\">\n",
       "      <th></th>\n",
       "      <th>ISBN</th>\n",
       "      <th>Book-Title</th>\n",
       "      <th>Book-Author</th>\n",
       "      <th>Year-Of-Publication</th>\n",
       "      <th>Publisher</th>\n",
       "    </tr>\n",
       "  </thead>\n",
       "  <tbody>\n",
       "    <tr>\n",
       "      <th>0</th>\n",
       "      <td>0195153448</td>\n",
       "      <td>Classical Mythology</td>\n",
       "      <td>Mark P. O. Morford</td>\n",
       "      <td>2002</td>\n",
       "      <td>Oxford University Press</td>\n",
       "    </tr>\n",
       "    <tr>\n",
       "      <th>1</th>\n",
       "      <td>0002005018</td>\n",
       "      <td>Clara Callan</td>\n",
       "      <td>Richard Bruce Wright</td>\n",
       "      <td>2001</td>\n",
       "      <td>HarperFlamingo Canada</td>\n",
       "    </tr>\n",
       "    <tr>\n",
       "      <th>2</th>\n",
       "      <td>0060973129</td>\n",
       "      <td>Decision in Normandy</td>\n",
       "      <td>Carlo D'Este</td>\n",
       "      <td>1991</td>\n",
       "      <td>HarperPerennial</td>\n",
       "    </tr>\n",
       "    <tr>\n",
       "      <th>3</th>\n",
       "      <td>0374157065</td>\n",
       "      <td>Flu: The Story of the Great Influenza Pandemic...</td>\n",
       "      <td>Gina Bari Kolata</td>\n",
       "      <td>1999</td>\n",
       "      <td>Farrar Straus Giroux</td>\n",
       "    </tr>\n",
       "    <tr>\n",
       "      <th>4</th>\n",
       "      <td>0393045218</td>\n",
       "      <td>The Mummies of Urumchi</td>\n",
       "      <td>E. J. W. Barber</td>\n",
       "      <td>1999</td>\n",
       "      <td>W. W. Norton &amp;amp; Company</td>\n",
       "    </tr>\n",
       "  </tbody>\n",
       "</table>\n",
       "</div>"
      ],
      "text/plain": [
       "         ISBN                                         Book-Title  \\\n",
       "0  0195153448                                Classical Mythology   \n",
       "1  0002005018                                       Clara Callan   \n",
       "2  0060973129                               Decision in Normandy   \n",
       "3  0374157065  Flu: The Story of the Great Influenza Pandemic...   \n",
       "4  0393045218                             The Mummies of Urumchi   \n",
       "\n",
       "            Book-Author Year-Of-Publication                   Publisher  \n",
       "0    Mark P. O. Morford                2002     Oxford University Press  \n",
       "1  Richard Bruce Wright                2001       HarperFlamingo Canada  \n",
       "2          Carlo D'Este                1991             HarperPerennial  \n",
       "3      Gina Bari Kolata                1999        Farrar Straus Giroux  \n",
       "4       E. J. W. Barber                1999  W. W. Norton &amp; Company  "
      ]
     },
     "execution_count": 5,
     "metadata": {},
     "output_type": "execute_result"
    }
   ],
   "source": [
    "books.head()"
   ]
  },
  {
   "cell_type": "code",
   "execution_count": 6,
   "id": "319f47dd",
   "metadata": {},
   "outputs": [
    {
     "name": "stdout",
     "output_type": "stream",
     "text": [
      "<class 'pandas.core.frame.DataFrame'>\n",
      "RangeIndex: 271360 entries, 0 to 271359\n",
      "Data columns (total 5 columns):\n",
      " #   Column               Non-Null Count   Dtype \n",
      "---  ------               --------------   ----- \n",
      " 0   ISBN                 271360 non-null  object\n",
      " 1   Book-Title           271360 non-null  object\n",
      " 2   Book-Author          271359 non-null  object\n",
      " 3   Year-Of-Publication  271360 non-null  object\n",
      " 4   Publisher            271358 non-null  object\n",
      "dtypes: object(5)\n",
      "memory usage: 10.4+ MB\n"
     ]
    }
   ],
   "source": [
    "books.info()           #found 1 nulll values in Book_author and 2 null_value in Publisher"
   ]
  },
  {
   "cell_type": "markdown",
   "id": "73f1c555",
   "metadata": {},
   "source": [
    "# Drop nonnull rows"
   ]
  },
  {
   "cell_type": "code",
   "execution_count": 7,
   "id": "e62edca8",
   "metadata": {},
   "outputs": [],
   "source": [
    "books.drop(books[books['Book-Author'].isnull()].index,inplace=True)"
   ]
  },
  {
   "cell_type": "code",
   "execution_count": 8,
   "id": "443917c6",
   "metadata": {},
   "outputs": [],
   "source": [
    "books.drop(books[books['Publisher'].isnull()].index,inplace=True)"
   ]
  },
  {
   "cell_type": "code",
   "execution_count": 9,
   "id": "b298baa7",
   "metadata": {},
   "outputs": [
    {
     "name": "stdout",
     "output_type": "stream",
     "text": [
      "<class 'pandas.core.frame.DataFrame'>\n",
      "Int64Index: 271357 entries, 0 to 271359\n",
      "Data columns (total 5 columns):\n",
      " #   Column               Non-Null Count   Dtype \n",
      "---  ------               --------------   ----- \n",
      " 0   ISBN                 271357 non-null  object\n",
      " 1   Book-Title           271357 non-null  object\n",
      " 2   Book-Author          271357 non-null  object\n",
      " 3   Year-Of-Publication  271357 non-null  object\n",
      " 4   Publisher            271357 non-null  object\n",
      "dtypes: object(5)\n",
      "memory usage: 12.4+ MB\n"
     ]
    }
   ],
   "source": [
    "books.info()"
   ]
  },
  {
   "cell_type": "code",
   "execution_count": 10,
   "id": "36c14a27",
   "metadata": {},
   "outputs": [],
   "source": [
    "books.reset_index(inplace=True)"
   ]
  },
  {
   "cell_type": "markdown",
   "id": "1531c831",
   "metadata": {},
   "source": [
    "## Remove non int values from Year_of_pub "
   ]
  },
  {
   "cell_type": "code",
   "execution_count": 11,
   "id": "ce1ec5ae",
   "metadata": {},
   "outputs": [
    {
     "data": {
      "text/plain": [
       "['DK Publishing Inc', 'Gallimard']"
      ]
     },
     "execution_count": 11,
     "metadata": {},
     "output_type": "execute_result"
    }
   ],
   "source": [
    "dum=list(books['Year-Of-Publication'].unique())\n",
    "dum2=np.char.isdigit(dum)\n",
    "dum3=[]\n",
    "for i in range(len(dum2)):\n",
    "    if dum2[i]==False:\n",
    "        dum3.append(dum[i])\n",
    "dum3.sort()\n",
    "dum3"
   ]
  },
  {
   "cell_type": "code",
   "execution_count": 12,
   "id": "590baf76",
   "metadata": {},
   "outputs": [],
   "source": [
    "index_list=[]\n",
    "index_list.append(books[books['Year-Of-Publication']==dum3[0]].index)\n",
    "# index_list.append(books[books['Year-Of-Publication']==dum3[1]].index)"
   ]
  },
  {
   "cell_type": "code",
   "execution_count": 13,
   "id": "7f6df790",
   "metadata": {},
   "outputs": [],
   "source": [
    "index_list=np.array(index_list)\n",
    "index_list=index_list.flatten()"
   ]
  },
  {
   "cell_type": "code",
   "execution_count": 14,
   "id": "3b84e313",
   "metadata": {},
   "outputs": [],
   "source": [
    "index_list=np.append(index_list,books[books['Year-Of-Publication']==dum3[1]].index,axis=0)"
   ]
  },
  {
   "cell_type": "code",
   "execution_count": 15,
   "id": "f960859b",
   "metadata": {},
   "outputs": [
    {
     "data": {
      "text/html": [
       "<div>\n",
       "<style scoped>\n",
       "    .dataframe tbody tr th:only-of-type {\n",
       "        vertical-align: middle;\n",
       "    }\n",
       "\n",
       "    .dataframe tbody tr th {\n",
       "        vertical-align: top;\n",
       "    }\n",
       "\n",
       "    .dataframe thead th {\n",
       "        text-align: right;\n",
       "    }\n",
       "</style>\n",
       "<table border=\"1\" class=\"dataframe\">\n",
       "  <thead>\n",
       "    <tr style=\"text-align: right;\">\n",
       "      <th></th>\n",
       "      <th>index</th>\n",
       "      <th>ISBN</th>\n",
       "      <th>Book-Title</th>\n",
       "      <th>Book-Author</th>\n",
       "      <th>Year-Of-Publication</th>\n",
       "      <th>Publisher</th>\n",
       "    </tr>\n",
       "  </thead>\n",
       "  <tbody>\n",
       "    <tr>\n",
       "      <th>209535</th>\n",
       "      <td>209538</td>\n",
       "      <td>078946697X</td>\n",
       "      <td>DK Readers: Creating the X-Men, How It All Beg...</td>\n",
       "      <td>2000</td>\n",
       "      <td>DK Publishing Inc</td>\n",
       "      <td>http://images.amazon.com/images/P/078946697X.0...</td>\n",
       "    </tr>\n",
       "    <tr>\n",
       "      <th>221675</th>\n",
       "      <td>221678</td>\n",
       "      <td>0789466953</td>\n",
       "      <td>DK Readers: Creating the X-Men, How Comic Book...</td>\n",
       "      <td>2000</td>\n",
       "      <td>DK Publishing Inc</td>\n",
       "      <td>http://images.amazon.com/images/P/0789466953.0...</td>\n",
       "    </tr>\n",
       "    <tr>\n",
       "      <th>220728</th>\n",
       "      <td>220731</td>\n",
       "      <td>2070426769</td>\n",
       "      <td>Peuple du ciel, suivi de 'Les Bergers\\\";Jean-M...</td>\n",
       "      <td>2003</td>\n",
       "      <td>Gallimard</td>\n",
       "      <td>http://images.amazon.com/images/P/2070426769.0...</td>\n",
       "    </tr>\n",
       "  </tbody>\n",
       "</table>\n",
       "</div>"
      ],
      "text/plain": [
       "         index        ISBN                                         Book-Title  \\\n",
       "209535  209538  078946697X  DK Readers: Creating the X-Men, How It All Beg...   \n",
       "221675  221678  0789466953  DK Readers: Creating the X-Men, How Comic Book...   \n",
       "220728  220731  2070426769  Peuple du ciel, suivi de 'Les Bergers\\\";Jean-M...   \n",
       "\n",
       "       Book-Author Year-Of-Publication  \\\n",
       "209535        2000   DK Publishing Inc   \n",
       "221675        2000   DK Publishing Inc   \n",
       "220728        2003           Gallimard   \n",
       "\n",
       "                                                Publisher  \n",
       "209535  http://images.amazon.com/images/P/078946697X.0...  \n",
       "221675  http://images.amazon.com/images/P/0789466953.0...  \n",
       "220728  http://images.amazon.com/images/P/2070426769.0...  "
      ]
     },
     "execution_count": 15,
     "metadata": {},
     "output_type": "execute_result"
    }
   ],
   "source": [
    "books.loc[index_list]"
   ]
  },
  {
   "cell_type": "code",
   "execution_count": 16,
   "id": "d4db8608",
   "metadata": {},
   "outputs": [],
   "source": [
    "books.at[209535 ,'Publisher'] = 'DK Publishing Inc'\n",
    "books.at[209535 ,'Year-Of-Publication'] = 2000\n",
    "books.at[209535 ,'Book-Author'] = 'Michael Teitelbaum'\n",
    "\n",
    "books.at[221675 ,'Publisher'] = 'DK Publishing Inc'\n",
    "books.at[221675 ,'Year-Of-Publication'] = 2000\n",
    "books.at[221675 ,'Book-Author'] = 'James Buckley'\n",
    "\n",
    "books.at[220728 ,'Publisher'] = 'Gallimard'\n",
    "books.at[220728 ,'Year-Of-Publication'] = '2003'\n",
    "books.at[220728 ,'Book-Author'] = 'Jean-Marie Gustave Le ClÃ?Â©zio'"
   ]
  },
  {
   "cell_type": "code",
   "execution_count": 17,
   "id": "415ee812",
   "metadata": {},
   "outputs": [
    {
     "data": {
      "text/html": [
       "<div>\n",
       "<style scoped>\n",
       "    .dataframe tbody tr th:only-of-type {\n",
       "        vertical-align: middle;\n",
       "    }\n",
       "\n",
       "    .dataframe tbody tr th {\n",
       "        vertical-align: top;\n",
       "    }\n",
       "\n",
       "    .dataframe thead th {\n",
       "        text-align: right;\n",
       "    }\n",
       "</style>\n",
       "<table border=\"1\" class=\"dataframe\">\n",
       "  <thead>\n",
       "    <tr style=\"text-align: right;\">\n",
       "      <th></th>\n",
       "      <th>index</th>\n",
       "      <th>ISBN</th>\n",
       "      <th>Book-Title</th>\n",
       "      <th>Book-Author</th>\n",
       "      <th>Year-Of-Publication</th>\n",
       "      <th>Publisher</th>\n",
       "    </tr>\n",
       "  </thead>\n",
       "  <tbody>\n",
       "    <tr>\n",
       "      <th>209535</th>\n",
       "      <td>209538</td>\n",
       "      <td>078946697X</td>\n",
       "      <td>DK Readers: Creating the X-Men, How It All Beg...</td>\n",
       "      <td>Michael Teitelbaum</td>\n",
       "      <td>2000</td>\n",
       "      <td>DK Publishing Inc</td>\n",
       "    </tr>\n",
       "    <tr>\n",
       "      <th>221675</th>\n",
       "      <td>221678</td>\n",
       "      <td>0789466953</td>\n",
       "      <td>DK Readers: Creating the X-Men, How Comic Book...</td>\n",
       "      <td>James Buckley</td>\n",
       "      <td>2000</td>\n",
       "      <td>DK Publishing Inc</td>\n",
       "    </tr>\n",
       "    <tr>\n",
       "      <th>220728</th>\n",
       "      <td>220731</td>\n",
       "      <td>2070426769</td>\n",
       "      <td>Peuple du ciel, suivi de 'Les Bergers\\\";Jean-M...</td>\n",
       "      <td>Jean-Marie Gustave Le ClÃ?Â©zio</td>\n",
       "      <td>2003</td>\n",
       "      <td>Gallimard</td>\n",
       "    </tr>\n",
       "  </tbody>\n",
       "</table>\n",
       "</div>"
      ],
      "text/plain": [
       "         index        ISBN                                         Book-Title  \\\n",
       "209535  209538  078946697X  DK Readers: Creating the X-Men, How It All Beg...   \n",
       "221675  221678  0789466953  DK Readers: Creating the X-Men, How Comic Book...   \n",
       "220728  220731  2070426769  Peuple du ciel, suivi de 'Les Bergers\\\";Jean-M...   \n",
       "\n",
       "                            Book-Author Year-Of-Publication          Publisher  \n",
       "209535               Michael Teitelbaum                2000  DK Publishing Inc  \n",
       "221675                    James Buckley                2000  DK Publishing Inc  \n",
       "220728  Jean-Marie Gustave Le ClÃ?Â©zio                2003          Gallimard  "
      ]
     },
     "execution_count": 17,
     "metadata": {},
     "output_type": "execute_result"
    }
   ],
   "source": [
    "books.loc[index_list]"
   ]
  },
  {
   "cell_type": "markdown",
   "id": "9d597c9e",
   "metadata": {},
   "source": [
    "\n",
    "# Remove duplicate years and convert to valid years"
   ]
  },
  {
   "cell_type": "code",
   "execution_count": 18,
   "id": "b8f96f0a",
   "metadata": {},
   "outputs": [],
   "source": [
    "books['Year-Of-Publication'] = books['Year-Of-Publication'].astype(int)"
   ]
  },
  {
   "cell_type": "code",
   "execution_count": 19,
   "id": "577116c3",
   "metadata": {},
   "outputs": [],
   "source": [
    "year_list=sorted(list(books['Year-Of-Publication'].unique()))"
   ]
  },
  {
   "cell_type": "code",
   "execution_count": 20,
   "id": "0d978198",
   "metadata": {},
   "outputs": [],
   "source": [
    "year_list=np.array(year_list)"
   ]
  },
  {
   "cell_type": "code",
   "execution_count": 21,
   "id": "4eabe701",
   "metadata": {},
   "outputs": [
    {
     "data": {
      "text/plain": [
       "array([   0, 1376, 1378, 1806, 1897, 1900, 1901, 1902, 1904, 1906, 1908,\n",
       "       1909, 1910, 1911, 1914, 1917, 1919, 1920, 1921, 1922, 1923, 1924,\n",
       "       1925, 1926, 1927, 1928, 1929, 1930, 1931, 1932, 1933, 1934, 1935,\n",
       "       1936, 1937, 1938, 1939, 1940, 1941, 1942, 1943, 1944, 1945, 1946,\n",
       "       1947, 1948, 1949, 1950, 1951, 1952, 1953, 1954, 1955, 1956, 1957,\n",
       "       1958, 1959, 1960, 1961, 1962, 1963, 1964, 1965, 1966, 1967, 1968,\n",
       "       1969, 1970, 1971, 1972, 1973, 1974, 1975, 1976, 1977, 1978, 1979,\n",
       "       1980, 1981, 1982, 1983, 1984, 1985, 1986, 1987, 1988, 1989, 1990,\n",
       "       1991, 1992, 1993, 1994, 1995, 1996, 1997, 1998, 1999, 2000, 2001,\n",
       "       2002, 2003, 2004, 2005, 2006, 2008, 2010, 2011, 2012, 2020, 2021,\n",
       "       2024, 2026, 2030, 2037, 2038, 2050])"
      ]
     },
     "execution_count": 21,
     "metadata": {},
     "output_type": "execute_result"
    }
   ],
   "source": [
    "year_list"
   ]
  },
  {
   "cell_type": "code",
   "execution_count": 22,
   "id": "2639d179",
   "metadata": {},
   "outputs": [
    {
     "data": {
      "text/plain": [
       "[2002]"
      ]
     },
     "execution_count": 22,
     "metadata": {},
     "output_type": "execute_result"
    }
   ],
   "source": [
    "from collections import Counter\n",
    "## Replacing Invalid years with max year\n",
    "count = Counter(books['Year-Of-Publication'])\n",
    "[k for k, v in count.items() if v == max(count.values())]"
   ]
  },
  {
   "cell_type": "code",
   "execution_count": 23,
   "id": "963030fb",
   "metadata": {},
   "outputs": [
    {
     "data": {
      "text/html": [
       "<div>\n",
       "<style scoped>\n",
       "    .dataframe tbody tr th:only-of-type {\n",
       "        vertical-align: middle;\n",
       "    }\n",
       "\n",
       "    .dataframe tbody tr th {\n",
       "        vertical-align: top;\n",
       "    }\n",
       "\n",
       "    .dataframe thead th {\n",
       "        text-align: right;\n",
       "    }\n",
       "</style>\n",
       "<table border=\"1\" class=\"dataframe\">\n",
       "  <thead>\n",
       "    <tr style=\"text-align: right;\">\n",
       "      <th></th>\n",
       "      <th>index</th>\n",
       "      <th>ISBN</th>\n",
       "      <th>Book-Title</th>\n",
       "      <th>Book-Author</th>\n",
       "      <th>Year-Of-Publication</th>\n",
       "      <th>Publisher</th>\n",
       "    </tr>\n",
       "  </thead>\n",
       "  <tbody>\n",
       "    <tr>\n",
       "      <th>176</th>\n",
       "      <td>176</td>\n",
       "      <td>3150000335</td>\n",
       "      <td>Kabale Und Liebe</td>\n",
       "      <td>Schiller</td>\n",
       "      <td>0</td>\n",
       "      <td>Philipp Reclam, Jun Verlag GmbH</td>\n",
       "    </tr>\n",
       "    <tr>\n",
       "      <th>188</th>\n",
       "      <td>188</td>\n",
       "      <td>342311360X</td>\n",
       "      <td>Die Liebe in Den Zelten</td>\n",
       "      <td>Gabriel Garcia Marquez</td>\n",
       "      <td>0</td>\n",
       "      <td>Deutscher Taschenbuch Verlag (DTV)</td>\n",
       "    </tr>\n",
       "    <tr>\n",
       "      <th>288</th>\n",
       "      <td>288</td>\n",
       "      <td>0571197639</td>\n",
       "      <td>Poisonwood Bible Edition Uk</td>\n",
       "      <td>Barbara Kingsolver</td>\n",
       "      <td>0</td>\n",
       "      <td>Faber Faber Inc</td>\n",
       "    </tr>\n",
       "    <tr>\n",
       "      <th>351</th>\n",
       "      <td>351</td>\n",
       "      <td>3596214629</td>\n",
       "      <td>Herr Der Fliegen (Fiction, Poetry and Drama)</td>\n",
       "      <td>Golding</td>\n",
       "      <td>0</td>\n",
       "      <td>Fischer Taschenbuch Verlag GmbH</td>\n",
       "    </tr>\n",
       "    <tr>\n",
       "      <th>542</th>\n",
       "      <td>542</td>\n",
       "      <td>8845229041</td>\n",
       "      <td>Biblioteca Universale Rizzoli: Sulla Sponda De...</td>\n",
       "      <td>P Coelho</td>\n",
       "      <td>0</td>\n",
       "      <td>Fabbri - RCS Libri</td>\n",
       "    </tr>\n",
       "    <tr>\n",
       "      <th>...</th>\n",
       "      <td>...</td>\n",
       "      <td>...</td>\n",
       "      <td>...</td>\n",
       "      <td>...</td>\n",
       "      <td>...</td>\n",
       "      <td>...</td>\n",
       "    </tr>\n",
       "    <tr>\n",
       "      <th>270791</th>\n",
       "      <td>270794</td>\n",
       "      <td>014029953X</td>\n",
       "      <td>Foe (Essential.penguin S.)</td>\n",
       "      <td>J.M. Coetzee</td>\n",
       "      <td>0</td>\n",
       "      <td>Penguin Books Ltd</td>\n",
       "    </tr>\n",
       "    <tr>\n",
       "      <th>270910</th>\n",
       "      <td>270913</td>\n",
       "      <td>0340571187</td>\n",
       "      <td>Postmens House</td>\n",
       "      <td>Maggie Hemingway</td>\n",
       "      <td>0</td>\n",
       "      <td>Trafalgar Square</td>\n",
       "    </tr>\n",
       "    <tr>\n",
       "      <th>271091</th>\n",
       "      <td>271094</td>\n",
       "      <td>8427201079</td>\n",
       "      <td>El Misterio De Sittaford</td>\n",
       "      <td>Agatha Christie</td>\n",
       "      <td>0</td>\n",
       "      <td>Editorial Molino</td>\n",
       "    </tr>\n",
       "    <tr>\n",
       "      <th>271179</th>\n",
       "      <td>271182</td>\n",
       "      <td>0887781721</td>\n",
       "      <td>Tom Penny</td>\n",
       "      <td>Tony German</td>\n",
       "      <td>0</td>\n",
       "      <td>P. Martin Associates</td>\n",
       "    </tr>\n",
       "    <tr>\n",
       "      <th>271193</th>\n",
       "      <td>271196</td>\n",
       "      <td>3150013763</td>\n",
       "      <td>Der Hofmeister</td>\n",
       "      <td>Jakob Lenz</td>\n",
       "      <td>0</td>\n",
       "      <td>Philipp Reclam, Jun Verlag GmbH</td>\n",
       "    </tr>\n",
       "  </tbody>\n",
       "</table>\n",
       "<p>4636 rows × 6 columns</p>\n",
       "</div>"
      ],
      "text/plain": [
       "         index        ISBN                                         Book-Title  \\\n",
       "176        176  3150000335                                   Kabale Und Liebe   \n",
       "188        188  342311360X                            Die Liebe in Den Zelten   \n",
       "288        288  0571197639                        Poisonwood Bible Edition Uk   \n",
       "351        351  3596214629       Herr Der Fliegen (Fiction, Poetry and Drama)   \n",
       "542        542  8845229041  Biblioteca Universale Rizzoli: Sulla Sponda De...   \n",
       "...        ...         ...                                                ...   \n",
       "270791  270794  014029953X                         Foe (Essential.penguin S.)   \n",
       "270910  270913  0340571187                                     Postmens House   \n",
       "271091  271094  8427201079                           El Misterio De Sittaford   \n",
       "271179  271182  0887781721                                          Tom Penny   \n",
       "271193  271196  3150013763                                     Der Hofmeister   \n",
       "\n",
       "                   Book-Author  Year-Of-Publication  \\\n",
       "176                   Schiller                    0   \n",
       "188     Gabriel Garcia Marquez                    0   \n",
       "288         Barbara Kingsolver                    0   \n",
       "351                    Golding                    0   \n",
       "542                   P Coelho                    0   \n",
       "...                        ...                  ...   \n",
       "270791            J.M. Coetzee                    0   \n",
       "270910        Maggie Hemingway                    0   \n",
       "271091         Agatha Christie                    0   \n",
       "271179             Tony German                    0   \n",
       "271193              Jakob Lenz                    0   \n",
       "\n",
       "                                 Publisher  \n",
       "176        Philipp Reclam, Jun Verlag GmbH  \n",
       "188     Deutscher Taschenbuch Verlag (DTV)  \n",
       "288                        Faber Faber Inc  \n",
       "351        Fischer Taschenbuch Verlag GmbH  \n",
       "542                     Fabbri - RCS Libri  \n",
       "...                                    ...  \n",
       "270791                   Penguin Books Ltd  \n",
       "270910                    Trafalgar Square  \n",
       "271091                    Editorial Molino  \n",
       "271179                P. Martin Associates  \n",
       "271193     Philipp Reclam, Jun Verlag GmbH  \n",
       "\n",
       "[4636 rows x 6 columns]"
      ]
     },
     "execution_count": 23,
     "metadata": {},
     "output_type": "execute_result"
    }
   ],
   "source": [
    "books[(books['Year-Of-Publication']<1900)|(books['Year-Of-Publication']>2020)]"
   ]
  },
  {
   "cell_type": "code",
   "execution_count": 24,
   "id": "775518b3",
   "metadata": {},
   "outputs": [],
   "source": [
    "books.loc[books['Year-Of-Publication'] > 2020, 'Year-Of-Publication'] = 2002\n",
    "books.loc[books['Year-Of-Publication'] <1900, 'Year-Of-Publication'] = 2002"
   ]
  },
  {
   "cell_type": "code",
   "execution_count": 25,
   "id": "69ef2095",
   "metadata": {},
   "outputs": [
    {
     "data": {
      "text/plain": [
       "Series([], Name: Year-Of-Publication, dtype: int32)"
      ]
     },
     "execution_count": 25,
     "metadata": {},
     "output_type": "execute_result"
    }
   ],
   "source": [
    "books[(books['Year-Of-Publication']<1900)|(books['Year-Of-Publication']>2020)]['Year-Of-Publication']"
   ]
  },
  {
   "cell_type": "markdown",
   "id": "7763d6c0",
   "metadata": {},
   "source": [
    "\n",
    "# OTHER preprocessing"
   ]
  },
  {
   "cell_type": "code",
   "execution_count": 26,
   "id": "4fc8b3c3",
   "metadata": {},
   "outputs": [],
   "source": [
    "\n",
    "## Uppercasing all alphabets in ISBN\n",
    "books['ISBN'] = books['ISBN'].str.upper()"
   ]
  },
  {
   "cell_type": "code",
   "execution_count": 27,
   "id": "95291823",
   "metadata": {},
   "outputs": [
    {
     "name": "stdout",
     "output_type": "stream",
     "text": [
      "<class 'pandas.core.frame.DataFrame'>\n",
      "RangeIndex: 271357 entries, 0 to 271356\n",
      "Data columns (total 6 columns):\n",
      " #   Column               Non-Null Count   Dtype \n",
      "---  ------               --------------   ----- \n",
      " 0   index                271357 non-null  int64 \n",
      " 1   ISBN                 271357 non-null  object\n",
      " 2   Book-Title           271357 non-null  object\n",
      " 3   Book-Author          271357 non-null  object\n",
      " 4   Year-Of-Publication  271357 non-null  int32 \n",
      " 5   Publisher            271357 non-null  object\n",
      "dtypes: int32(1), int64(1), object(4)\n",
      "memory usage: 11.4+ MB\n"
     ]
    }
   ],
   "source": [
    "books.info()"
   ]
  },
  {
   "cell_type": "code",
   "execution_count": 28,
   "id": "eef0108d",
   "metadata": {},
   "outputs": [],
   "source": [
    "## Drop duplicate rows\n",
    "books.drop_duplicates(keep='last', inplace=True) \n",
    "books.reset_index(drop = True, inplace = True)"
   ]
  },
  {
   "cell_type": "code",
   "execution_count": 29,
   "id": "95b555d9",
   "metadata": {},
   "outputs": [
    {
     "name": "stdout",
     "output_type": "stream",
     "text": [
      "<class 'pandas.core.frame.DataFrame'>\n",
      "RangeIndex: 271357 entries, 0 to 271356\n",
      "Data columns (total 6 columns):\n",
      " #   Column               Non-Null Count   Dtype \n",
      "---  ------               --------------   ----- \n",
      " 0   index                271357 non-null  int64 \n",
      " 1   ISBN                 271357 non-null  object\n",
      " 2   Book-Title           271357 non-null  object\n",
      " 3   Book-Author          271357 non-null  object\n",
      " 4   Year-Of-Publication  271357 non-null  int32 \n",
      " 5   Publisher            271357 non-null  object\n",
      "dtypes: int32(1), int64(1), object(4)\n",
      "memory usage: 11.4+ MB\n"
     ]
    }
   ],
   "source": [
    "books.info()"
   ]
  },
  {
   "cell_type": "code",
   "execution_count": 30,
   "id": "07e430c5",
   "metadata": {},
   "outputs": [
    {
     "data": {
      "text/html": [
       "<div>\n",
       "<style scoped>\n",
       "    .dataframe tbody tr th:only-of-type {\n",
       "        vertical-align: middle;\n",
       "    }\n",
       "\n",
       "    .dataframe tbody tr th {\n",
       "        vertical-align: top;\n",
       "    }\n",
       "\n",
       "    .dataframe thead th {\n",
       "        text-align: right;\n",
       "    }\n",
       "</style>\n",
       "<table border=\"1\" class=\"dataframe\">\n",
       "  <thead>\n",
       "    <tr style=\"text-align: right;\">\n",
       "      <th></th>\n",
       "      <th>index</th>\n",
       "      <th>ISBN</th>\n",
       "      <th>Book-Title</th>\n",
       "      <th>Book-Author</th>\n",
       "      <th>Year-Of-Publication</th>\n",
       "      <th>Publisher</th>\n",
       "    </tr>\n",
       "  </thead>\n",
       "  <tbody>\n",
       "    <tr>\n",
       "      <th>0</th>\n",
       "      <td>0</td>\n",
       "      <td>0195153448</td>\n",
       "      <td>Classical Mythology</td>\n",
       "      <td>Mark P. O. Morford</td>\n",
       "      <td>2002</td>\n",
       "      <td>Oxford University Press</td>\n",
       "    </tr>\n",
       "    <tr>\n",
       "      <th>1</th>\n",
       "      <td>1</td>\n",
       "      <td>0002005018</td>\n",
       "      <td>Clara Callan</td>\n",
       "      <td>Richard Bruce Wright</td>\n",
       "      <td>2001</td>\n",
       "      <td>HarperFlamingo Canada</td>\n",
       "    </tr>\n",
       "    <tr>\n",
       "      <th>2</th>\n",
       "      <td>2</td>\n",
       "      <td>0060973129</td>\n",
       "      <td>Decision in Normandy</td>\n",
       "      <td>Carlo D'Este</td>\n",
       "      <td>1991</td>\n",
       "      <td>HarperPerennial</td>\n",
       "    </tr>\n",
       "    <tr>\n",
       "      <th>3</th>\n",
       "      <td>3</td>\n",
       "      <td>0374157065</td>\n",
       "      <td>Flu: The Story of the Great Influenza Pandemic...</td>\n",
       "      <td>Gina Bari Kolata</td>\n",
       "      <td>1999</td>\n",
       "      <td>Farrar Straus Giroux</td>\n",
       "    </tr>\n",
       "    <tr>\n",
       "      <th>4</th>\n",
       "      <td>4</td>\n",
       "      <td>0393045218</td>\n",
       "      <td>The Mummies of Urumchi</td>\n",
       "      <td>E. J. W. Barber</td>\n",
       "      <td>1999</td>\n",
       "      <td>W. W. Norton &amp;amp; Company</td>\n",
       "    </tr>\n",
       "  </tbody>\n",
       "</table>\n",
       "</div>"
      ],
      "text/plain": [
       "   index        ISBN                                         Book-Title  \\\n",
       "0      0  0195153448                                Classical Mythology   \n",
       "1      1  0002005018                                       Clara Callan   \n",
       "2      2  0060973129                               Decision in Normandy   \n",
       "3      3  0374157065  Flu: The Story of the Great Influenza Pandemic...   \n",
       "4      4  0393045218                             The Mummies of Urumchi   \n",
       "\n",
       "            Book-Author  Year-Of-Publication                   Publisher  \n",
       "0    Mark P. O. Morford                 2002     Oxford University Press  \n",
       "1  Richard Bruce Wright                 2001       HarperFlamingo Canada  \n",
       "2          Carlo D'Este                 1991             HarperPerennial  \n",
       "3      Gina Bari Kolata                 1999        Farrar Straus Giroux  \n",
       "4       E. J. W. Barber                 1999  W. W. Norton &amp; Company  "
      ]
     },
     "execution_count": 30,
     "metadata": {},
     "output_type": "execute_result"
    }
   ],
   "source": [
    "books.head()"
   ]
  },
  {
   "cell_type": "code",
   "execution_count": null,
   "id": "481becc8",
   "metadata": {},
   "outputs": [],
   "source": []
  },
  {
   "cell_type": "markdown",
   "id": "8e0b652a",
   "metadata": {},
   "source": [
    "# Users data preprocessing"
   ]
  },
  {
   "cell_type": "code",
   "execution_count": 31,
   "id": "534a9397",
   "metadata": {},
   "outputs": [
    {
     "data": {
      "text/html": [
       "<div>\n",
       "<style scoped>\n",
       "    .dataframe tbody tr th:only-of-type {\n",
       "        vertical-align: middle;\n",
       "    }\n",
       "\n",
       "    .dataframe tbody tr th {\n",
       "        vertical-align: top;\n",
       "    }\n",
       "\n",
       "    .dataframe thead th {\n",
       "        text-align: right;\n",
       "    }\n",
       "</style>\n",
       "<table border=\"1\" class=\"dataframe\">\n",
       "  <thead>\n",
       "    <tr style=\"text-align: right;\">\n",
       "      <th></th>\n",
       "      <th>User-ID</th>\n",
       "      <th>Location</th>\n",
       "      <th>Age</th>\n",
       "    </tr>\n",
       "  </thead>\n",
       "  <tbody>\n",
       "    <tr>\n",
       "      <th>0</th>\n",
       "      <td>1</td>\n",
       "      <td>nyc, new york, usa</td>\n",
       "      <td>NaN</td>\n",
       "    </tr>\n",
       "    <tr>\n",
       "      <th>1</th>\n",
       "      <td>2</td>\n",
       "      <td>stockton, california, usa</td>\n",
       "      <td>18.0</td>\n",
       "    </tr>\n",
       "    <tr>\n",
       "      <th>2</th>\n",
       "      <td>3</td>\n",
       "      <td>moscow, yukon territory, russia</td>\n",
       "      <td>NaN</td>\n",
       "    </tr>\n",
       "    <tr>\n",
       "      <th>3</th>\n",
       "      <td>4</td>\n",
       "      <td>porto, v.n.gaia, portugal</td>\n",
       "      <td>17.0</td>\n",
       "    </tr>\n",
       "    <tr>\n",
       "      <th>4</th>\n",
       "      <td>5</td>\n",
       "      <td>farnborough, hants, united kingdom</td>\n",
       "      <td>NaN</td>\n",
       "    </tr>\n",
       "  </tbody>\n",
       "</table>\n",
       "</div>"
      ],
      "text/plain": [
       "   User-ID                            Location   Age\n",
       "0        1                  nyc, new york, usa   NaN\n",
       "1        2           stockton, california, usa  18.0\n",
       "2        3     moscow, yukon territory, russia   NaN\n",
       "3        4           porto, v.n.gaia, portugal  17.0\n",
       "4        5  farnborough, hants, united kingdom   NaN"
      ]
     },
     "execution_count": 31,
     "metadata": {},
     "output_type": "execute_result"
    }
   ],
   "source": [
    "users.head()"
   ]
  },
  {
   "cell_type": "code",
   "execution_count": 32,
   "id": "71b7c2a4",
   "metadata": {},
   "outputs": [
    {
     "name": "stdout",
     "output_type": "stream",
     "text": [
      "<class 'pandas.core.frame.DataFrame'>\n",
      "RangeIndex: 278858 entries, 0 to 278857\n",
      "Data columns (total 3 columns):\n",
      " #   Column    Non-Null Count   Dtype  \n",
      "---  ------    --------------   -----  \n",
      " 0   User-ID   278858 non-null  int64  \n",
      " 1   Location  278858 non-null  object \n",
      " 2   Age       168096 non-null  float64\n",
      "dtypes: float64(1), int64(1), object(1)\n",
      "memory usage: 6.4+ MB\n"
     ]
    }
   ],
   "source": [
    "users.info()                      "
   ]
  },
  {
   "cell_type": "code",
   "execution_count": 33,
   "id": "4e6097d5",
   "metadata": {},
   "outputs": [
    {
     "data": {
      "text/plain": [
       "110762"
      ]
     },
     "execution_count": 33,
     "metadata": {},
     "output_type": "execute_result"
    }
   ],
   "source": [
    "278858-168096       #null values"
   ]
  },
  {
   "cell_type": "code",
   "execution_count": 34,
   "id": "4415a5d8",
   "metadata": {},
   "outputs": [],
   "source": [
    "age_list=sorted(list(users['Age'].unique()))"
   ]
  },
  {
   "cell_type": "code",
   "execution_count": 35,
   "id": "860a0eb9",
   "metadata": {},
   "outputs": [],
   "source": [
    "age_list=np.array(age_list)"
   ]
  },
  {
   "cell_type": "code",
   "execution_count": 36,
   "id": "20586d48",
   "metadata": {},
   "outputs": [],
   "source": [
    "T_F_list=(age_list<80) & (age_list>10)"
   ]
  },
  {
   "cell_type": "code",
   "execution_count": 37,
   "id": "e1838379",
   "metadata": {},
   "outputs": [
    {
     "data": {
      "text/plain": [
       "45.0"
      ]
     },
     "execution_count": 37,
     "metadata": {},
     "output_type": "execute_result"
    }
   ],
   "source": [
    "age_list[T_F_list].mean()"
   ]
  },
  {
   "cell_type": "code",
   "execution_count": 38,
   "id": "eb9f57e9",
   "metadata": {},
   "outputs": [],
   "source": [
    "baseline = users[users['Age'] <= 80]\n",
    "baseline = baseline[baseline['Age'] >= 10]"
   ]
  },
  {
   "cell_type": "code",
   "execution_count": 39,
   "id": "82fe2996",
   "metadata": {},
   "outputs": [],
   "source": [
    "mean=round(baseline['Age'].mean())"
   ]
  },
  {
   "cell_type": "markdown",
   "id": "fb020fdd",
   "metadata": {},
   "source": [
    "## subsitute all outlier,non_null values with mean"
   ]
  },
  {
   "cell_type": "code",
   "execution_count": 40,
   "id": "8b4be37e",
   "metadata": {},
   "outputs": [],
   "source": [
    "users.loc[users['Age'] > 80, 'Age'] = mean"
   ]
  },
  {
   "cell_type": "code",
   "execution_count": 41,
   "id": "0b944f83",
   "metadata": {},
   "outputs": [],
   "source": [
    "users.loc[users['Age'] <10, 'Age'] = mean"
   ]
  },
  {
   "cell_type": "code",
   "execution_count": 42,
   "id": "31bcda81",
   "metadata": {},
   "outputs": [],
   "source": [
    "users['Age'] = users['Age'].fillna(mean)"
   ]
  },
  {
   "cell_type": "code",
   "execution_count": 43,
   "id": "1a28e182",
   "metadata": {},
   "outputs": [
    {
     "name": "stdout",
     "output_type": "stream",
     "text": [
      "[10.0, 11.0, 12.0, 13.0, 14.0, 15.0, 16.0, 17.0, 18.0, 19.0, 20.0, 21.0, 22.0, 23.0, 24.0, 25.0, 26.0, 27.0, 28.0, 29.0, 30.0, 31.0, 32.0, 33.0, 34.0, 35.0, 36.0, 37.0, 38.0, 39.0, 40.0, 41.0, 42.0, 43.0, 44.0, 45.0, 46.0, 47.0, 48.0, 49.0, 50.0, 51.0, 52.0, 53.0, 54.0, 55.0, 56.0, 57.0, 58.0, 59.0, 60.0, 61.0, 62.0, 63.0, 64.0, 65.0, 66.0, 67.0, 68.0, 69.0, 70.0, 71.0, 72.0, 73.0, 74.0, 75.0, 76.0, 77.0, 78.0, 79.0, 80.0]\n"
     ]
    }
   ],
   "source": [
    "print(sorted(list(users['Age'].unique())))"
   ]
  },
  {
   "cell_type": "markdown",
   "id": "f2a6dd9e",
   "metadata": {},
   "source": [
    "# CONVERTING ADDRESS TO CITY,STATE,COUNTRY FORMET "
   ]
  },
  {
   "cell_type": "code",
   "execution_count": 44,
   "id": "96912ffe",
   "metadata": {},
   "outputs": [
    {
     "data": {
      "text/html": [
       "<div>\n",
       "<style scoped>\n",
       "    .dataframe tbody tr th:only-of-type {\n",
       "        vertical-align: middle;\n",
       "    }\n",
       "\n",
       "    .dataframe tbody tr th {\n",
       "        vertical-align: top;\n",
       "    }\n",
       "\n",
       "    .dataframe thead th {\n",
       "        text-align: right;\n",
       "    }\n",
       "</style>\n",
       "<table border=\"1\" class=\"dataframe\">\n",
       "  <thead>\n",
       "    <tr style=\"text-align: right;\">\n",
       "      <th></th>\n",
       "      <th>User-ID</th>\n",
       "      <th>Location</th>\n",
       "      <th>Age</th>\n",
       "    </tr>\n",
       "  </thead>\n",
       "  <tbody>\n",
       "    <tr>\n",
       "      <th>0</th>\n",
       "      <td>1</td>\n",
       "      <td>nyc, new york, usa</td>\n",
       "      <td>35.0</td>\n",
       "    </tr>\n",
       "    <tr>\n",
       "      <th>1</th>\n",
       "      <td>2</td>\n",
       "      <td>stockton, california, usa</td>\n",
       "      <td>18.0</td>\n",
       "    </tr>\n",
       "    <tr>\n",
       "      <th>2</th>\n",
       "      <td>3</td>\n",
       "      <td>moscow, yukon territory, russia</td>\n",
       "      <td>35.0</td>\n",
       "    </tr>\n",
       "    <tr>\n",
       "      <th>3</th>\n",
       "      <td>4</td>\n",
       "      <td>porto, v.n.gaia, portugal</td>\n",
       "      <td>17.0</td>\n",
       "    </tr>\n",
       "    <tr>\n",
       "      <th>4</th>\n",
       "      <td>5</td>\n",
       "      <td>farnborough, hants, united kingdom</td>\n",
       "      <td>35.0</td>\n",
       "    </tr>\n",
       "  </tbody>\n",
       "</table>\n",
       "</div>"
      ],
      "text/plain": [
       "   User-ID                            Location   Age\n",
       "0        1                  nyc, new york, usa  35.0\n",
       "1        2           stockton, california, usa  18.0\n",
       "2        3     moscow, yukon territory, russia  35.0\n",
       "3        4           porto, v.n.gaia, portugal  17.0\n",
       "4        5  farnborough, hants, united kingdom  35.0"
      ]
     },
     "execution_count": 44,
     "metadata": {},
     "output_type": "execute_result"
    }
   ],
   "source": [
    "users.head()"
   ]
  },
  {
   "cell_type": "code",
   "execution_count": 45,
   "id": "f2d52936",
   "metadata": {},
   "outputs": [],
   "source": [
    "list_Loc = users.Location.str.split(', ')"
   ]
  },
  {
   "cell_type": "code",
   "execution_count": 46,
   "id": "be50bf62",
   "metadata": {},
   "outputs": [
    {
     "data": {
      "text/plain": [
       "0                         [nyc, new york, usa]\n",
       "1                  [stockton, california, usa]\n",
       "2            [moscow, yukon territory, russia]\n",
       "3                  [porto, v.n.gaia, portugal]\n",
       "4         [farnborough, hants, united kingdom]\n",
       "                          ...                 \n",
       "278853                 [portland, oregon, usa]\n",
       "278854    [tacoma, washington, united kingdom]\n",
       "278855             [brampton, ontario, canada]\n",
       "278856             [knoxville, tennessee, usa]\n",
       "278857                  [dublin, n/a, ireland]\n",
       "Name: Location, Length: 278858, dtype: object"
      ]
     },
     "execution_count": 46,
     "metadata": {},
     "output_type": "execute_result"
    }
   ],
   "source": [
    "list_Loc"
   ]
  },
  {
   "cell_type": "code",
   "execution_count": 47,
   "id": "abd73731",
   "metadata": {},
   "outputs": [],
   "source": [
    "city = []\n",
    "state = []\n",
    "country = []\n",
    "count_no_state = 0    \n",
    "count_no_country = 0"
   ]
  },
  {
   "cell_type": "code",
   "execution_count": 48,
   "id": "c1e542fe",
   "metadata": {},
   "outputs": [],
   "source": [
    "for i in range(0,len(list_Loc)):\n",
    "    if list_Loc[i][0] == ' ' or list_Loc[i][0] == '' or list_Loc[i][0]=='n/a' or list_Loc[i][0] == ',':  #removing invalid entries too\n",
    "        city.append('other')\n",
    "    else:\n",
    "        city.append(list_Loc[i][0].lower())"
   ]
  },
  {
   "cell_type": "code",
   "execution_count": 49,
   "id": "975dfc76",
   "metadata": {},
   "outputs": [],
   "source": [
    "for i in range(0,len(list_Loc)):\n",
    "    if(len(list_Loc[i])<2):\n",
    "        state.append('other')\n",
    "        country.append('other')\n",
    "        count_no_state += 1\n",
    "        count_no_country += 1\n",
    "    else:\n",
    "        if list_Loc[i][1] == ' ' or list_Loc[i][1] == '' or list_Loc[i][1]=='n/a' or list_Loc[i][1] == ',':   #removing invalid entries \n",
    "            state.append('other')\n",
    "            count_no_state += 1            \n",
    "        else:\n",
    "            state.append(list_Loc[i][1].lower())\n",
    "        \n",
    "        if(len(list_Loc[i])<3):\n",
    "            country.append('other')\n",
    "            count_no_country += 1\n",
    "        else:\n",
    "            if list_Loc[i][2] == ''or list_Loc[i][1] == ',' or list_Loc[i][2] == ' ' or list_Loc[i][2] == 'n/a':\n",
    "                country.append('other')\n",
    "                count_no_country += 1\n",
    "            else:\n",
    "                country.append(list_Loc[i][2].lower())"
   ]
  },
  {
   "cell_type": "code",
   "execution_count": 50,
   "id": "09f42d26",
   "metadata": {},
   "outputs": [
    {
     "data": {
      "text/plain": [
       "278858"
      ]
     },
     "execution_count": 50,
     "metadata": {},
     "output_type": "execute_result"
    }
   ],
   "source": [
    "len(city)\n",
    "len(state)\n",
    "len(country)"
   ]
  },
  {
   "cell_type": "code",
   "execution_count": 51,
   "id": "4cdd7739",
   "metadata": {},
   "outputs": [
    {
     "name": "stdout",
     "output_type": "stream",
     "text": [
      "<class 'pandas.core.frame.DataFrame'>\n",
      "RangeIndex: 278858 entries, 0 to 278857\n",
      "Data columns (total 3 columns):\n",
      " #   Column    Non-Null Count   Dtype  \n",
      "---  ------    --------------   -----  \n",
      " 0   User-ID   278858 non-null  int64  \n",
      " 1   Location  278858 non-null  object \n",
      " 2   Age       278858 non-null  float64\n",
      "dtypes: float64(1), int64(1), object(1)\n",
      "memory usage: 6.4+ MB\n"
     ]
    }
   ],
   "source": [
    "users.info()"
   ]
  },
  {
   "cell_type": "code",
   "execution_count": 52,
   "id": "d354e42f",
   "metadata": {},
   "outputs": [],
   "source": [
    "users['city']=city"
   ]
  },
  {
   "cell_type": "code",
   "execution_count": 53,
   "id": "f6aeb489",
   "metadata": {},
   "outputs": [],
   "source": [
    "users['state']=state"
   ]
  },
  {
   "cell_type": "code",
   "execution_count": 54,
   "id": "fbb3c2c0",
   "metadata": {},
   "outputs": [],
   "source": [
    "users['country']=country"
   ]
  },
  {
   "cell_type": "code",
   "execution_count": 55,
   "id": "acff9b28",
   "metadata": {},
   "outputs": [
    {
     "data": {
      "text/html": [
       "<div>\n",
       "<style scoped>\n",
       "    .dataframe tbody tr th:only-of-type {\n",
       "        vertical-align: middle;\n",
       "    }\n",
       "\n",
       "    .dataframe tbody tr th {\n",
       "        vertical-align: top;\n",
       "    }\n",
       "\n",
       "    .dataframe thead th {\n",
       "        text-align: right;\n",
       "    }\n",
       "</style>\n",
       "<table border=\"1\" class=\"dataframe\">\n",
       "  <thead>\n",
       "    <tr style=\"text-align: right;\">\n",
       "      <th></th>\n",
       "      <th>User-ID</th>\n",
       "      <th>Location</th>\n",
       "      <th>Age</th>\n",
       "      <th>city</th>\n",
       "      <th>state</th>\n",
       "      <th>country</th>\n",
       "    </tr>\n",
       "  </thead>\n",
       "  <tbody>\n",
       "    <tr>\n",
       "      <th>0</th>\n",
       "      <td>1</td>\n",
       "      <td>nyc, new york, usa</td>\n",
       "      <td>35.0</td>\n",
       "      <td>nyc</td>\n",
       "      <td>new york</td>\n",
       "      <td>usa</td>\n",
       "    </tr>\n",
       "    <tr>\n",
       "      <th>1</th>\n",
       "      <td>2</td>\n",
       "      <td>stockton, california, usa</td>\n",
       "      <td>18.0</td>\n",
       "      <td>stockton</td>\n",
       "      <td>california</td>\n",
       "      <td>usa</td>\n",
       "    </tr>\n",
       "    <tr>\n",
       "      <th>2</th>\n",
       "      <td>3</td>\n",
       "      <td>moscow, yukon territory, russia</td>\n",
       "      <td>35.0</td>\n",
       "      <td>moscow</td>\n",
       "      <td>yukon territory</td>\n",
       "      <td>russia</td>\n",
       "    </tr>\n",
       "    <tr>\n",
       "      <th>3</th>\n",
       "      <td>4</td>\n",
       "      <td>porto, v.n.gaia, portugal</td>\n",
       "      <td>17.0</td>\n",
       "      <td>porto</td>\n",
       "      <td>v.n.gaia</td>\n",
       "      <td>portugal</td>\n",
       "    </tr>\n",
       "    <tr>\n",
       "      <th>4</th>\n",
       "      <td>5</td>\n",
       "      <td>farnborough, hants, united kingdom</td>\n",
       "      <td>35.0</td>\n",
       "      <td>farnborough</td>\n",
       "      <td>hants</td>\n",
       "      <td>united kingdom</td>\n",
       "    </tr>\n",
       "    <tr>\n",
       "      <th>...</th>\n",
       "      <td>...</td>\n",
       "      <td>...</td>\n",
       "      <td>...</td>\n",
       "      <td>...</td>\n",
       "      <td>...</td>\n",
       "      <td>...</td>\n",
       "    </tr>\n",
       "    <tr>\n",
       "      <th>278853</th>\n",
       "      <td>278854</td>\n",
       "      <td>portland, oregon, usa</td>\n",
       "      <td>35.0</td>\n",
       "      <td>portland</td>\n",
       "      <td>oregon</td>\n",
       "      <td>usa</td>\n",
       "    </tr>\n",
       "    <tr>\n",
       "      <th>278854</th>\n",
       "      <td>278855</td>\n",
       "      <td>tacoma, washington, united kingdom</td>\n",
       "      <td>50.0</td>\n",
       "      <td>tacoma</td>\n",
       "      <td>washington</td>\n",
       "      <td>united kingdom</td>\n",
       "    </tr>\n",
       "    <tr>\n",
       "      <th>278855</th>\n",
       "      <td>278856</td>\n",
       "      <td>brampton, ontario, canada</td>\n",
       "      <td>35.0</td>\n",
       "      <td>brampton</td>\n",
       "      <td>ontario</td>\n",
       "      <td>canada</td>\n",
       "    </tr>\n",
       "    <tr>\n",
       "      <th>278856</th>\n",
       "      <td>278857</td>\n",
       "      <td>knoxville, tennessee, usa</td>\n",
       "      <td>35.0</td>\n",
       "      <td>knoxville</td>\n",
       "      <td>tennessee</td>\n",
       "      <td>usa</td>\n",
       "    </tr>\n",
       "    <tr>\n",
       "      <th>278857</th>\n",
       "      <td>278858</td>\n",
       "      <td>dublin, n/a, ireland</td>\n",
       "      <td>35.0</td>\n",
       "      <td>dublin</td>\n",
       "      <td>other</td>\n",
       "      <td>ireland</td>\n",
       "    </tr>\n",
       "  </tbody>\n",
       "</table>\n",
       "<p>278858 rows × 6 columns</p>\n",
       "</div>"
      ],
      "text/plain": [
       "        User-ID                            Location   Age         city  \\\n",
       "0             1                  nyc, new york, usa  35.0          nyc   \n",
       "1             2           stockton, california, usa  18.0     stockton   \n",
       "2             3     moscow, yukon territory, russia  35.0       moscow   \n",
       "3             4           porto, v.n.gaia, portugal  17.0        porto   \n",
       "4             5  farnborough, hants, united kingdom  35.0  farnborough   \n",
       "...         ...                                 ...   ...          ...   \n",
       "278853   278854               portland, oregon, usa  35.0     portland   \n",
       "278854   278855  tacoma, washington, united kingdom  50.0       tacoma   \n",
       "278855   278856           brampton, ontario, canada  35.0     brampton   \n",
       "278856   278857           knoxville, tennessee, usa  35.0    knoxville   \n",
       "278857   278858                dublin, n/a, ireland  35.0       dublin   \n",
       "\n",
       "                  state         country  \n",
       "0              new york             usa  \n",
       "1            california             usa  \n",
       "2       yukon territory          russia  \n",
       "3              v.n.gaia        portugal  \n",
       "4                 hants  united kingdom  \n",
       "...                 ...             ...  \n",
       "278853           oregon             usa  \n",
       "278854       washington  united kingdom  \n",
       "278855          ontario          canada  \n",
       "278856        tennessee             usa  \n",
       "278857            other         ireland  \n",
       "\n",
       "[278858 rows x 6 columns]"
      ]
     },
     "execution_count": 55,
     "metadata": {},
     "output_type": "execute_result"
    }
   ],
   "source": [
    "users"
   ]
  },
  {
   "cell_type": "code",
   "execution_count": 56,
   "id": "78518704",
   "metadata": {},
   "outputs": [],
   "source": [
    "users = users.drop('Location',axis=1)\n"
   ]
  },
  {
   "cell_type": "code",
   "execution_count": 57,
   "id": "614c9b6c",
   "metadata": {},
   "outputs": [
    {
     "data": {
      "text/html": [
       "<div>\n",
       "<style scoped>\n",
       "    .dataframe tbody tr th:only-of-type {\n",
       "        vertical-align: middle;\n",
       "    }\n",
       "\n",
       "    .dataframe tbody tr th {\n",
       "        vertical-align: top;\n",
       "    }\n",
       "\n",
       "    .dataframe thead th {\n",
       "        text-align: right;\n",
       "    }\n",
       "</style>\n",
       "<table border=\"1\" class=\"dataframe\">\n",
       "  <thead>\n",
       "    <tr style=\"text-align: right;\">\n",
       "      <th></th>\n",
       "      <th>User-ID</th>\n",
       "      <th>Age</th>\n",
       "      <th>city</th>\n",
       "      <th>state</th>\n",
       "      <th>country</th>\n",
       "    </tr>\n",
       "  </thead>\n",
       "  <tbody>\n",
       "    <tr>\n",
       "      <th>0</th>\n",
       "      <td>1</td>\n",
       "      <td>35.0</td>\n",
       "      <td>nyc</td>\n",
       "      <td>new york</td>\n",
       "      <td>usa</td>\n",
       "    </tr>\n",
       "    <tr>\n",
       "      <th>1</th>\n",
       "      <td>2</td>\n",
       "      <td>18.0</td>\n",
       "      <td>stockton</td>\n",
       "      <td>california</td>\n",
       "      <td>usa</td>\n",
       "    </tr>\n",
       "    <tr>\n",
       "      <th>2</th>\n",
       "      <td>3</td>\n",
       "      <td>35.0</td>\n",
       "      <td>moscow</td>\n",
       "      <td>yukon territory</td>\n",
       "      <td>russia</td>\n",
       "    </tr>\n",
       "    <tr>\n",
       "      <th>3</th>\n",
       "      <td>4</td>\n",
       "      <td>17.0</td>\n",
       "      <td>porto</td>\n",
       "      <td>v.n.gaia</td>\n",
       "      <td>portugal</td>\n",
       "    </tr>\n",
       "    <tr>\n",
       "      <th>4</th>\n",
       "      <td>5</td>\n",
       "      <td>35.0</td>\n",
       "      <td>farnborough</td>\n",
       "      <td>hants</td>\n",
       "      <td>united kingdom</td>\n",
       "    </tr>\n",
       "  </tbody>\n",
       "</table>\n",
       "</div>"
      ],
      "text/plain": [
       "   User-ID   Age         city            state         country\n",
       "0        1  35.0          nyc         new york             usa\n",
       "1        2  18.0     stockton       california             usa\n",
       "2        3  35.0       moscow  yukon territory          russia\n",
       "3        4  17.0        porto         v.n.gaia        portugal\n",
       "4        5  35.0  farnborough            hants  united kingdom"
      ]
     },
     "execution_count": 57,
     "metadata": {},
     "output_type": "execute_result"
    }
   ],
   "source": [
    "users.head()\n"
   ]
  },
  {
   "cell_type": "code",
   "execution_count": 58,
   "id": "1e2ebe9c",
   "metadata": {},
   "outputs": [
    {
     "name": "stdout",
     "output_type": "stream",
     "text": [
      "4659\n",
      "16044\n"
     ]
    }
   ],
   "source": [
    "print(count_no_country)   #printing the number of countries didnt have any values \n",
    "print(count_no_state)     #printing the states which didnt have any values"
   ]
  },
  {
   "cell_type": "code",
   "execution_count": 59,
   "id": "349cc4c2",
   "metadata": {},
   "outputs": [],
   "source": [
    "users.drop_duplicates(keep='last', inplace=True)\n",
    "users.reset_index(drop=True, inplace=True)"
   ]
  },
  {
   "cell_type": "code",
   "execution_count": 60,
   "id": "02fbf651",
   "metadata": {},
   "outputs": [
    {
     "name": "stdout",
     "output_type": "stream",
     "text": [
      "<class 'pandas.core.frame.DataFrame'>\n",
      "RangeIndex: 278858 entries, 0 to 278857\n",
      "Data columns (total 5 columns):\n",
      " #   Column   Non-Null Count   Dtype  \n",
      "---  ------   --------------   -----  \n",
      " 0   User-ID  278858 non-null  int64  \n",
      " 1   Age      278858 non-null  float64\n",
      " 2   city     278858 non-null  object \n",
      " 3   state    278858 non-null  object \n",
      " 4   country  278858 non-null  object \n",
      "dtypes: float64(1), int64(1), object(3)\n",
      "memory usage: 10.6+ MB\n"
     ]
    }
   ],
   "source": [
    "users.info()\n"
   ]
  },
  {
   "cell_type": "code",
   "execution_count": null,
   "id": "5cfab64c",
   "metadata": {},
   "outputs": [],
   "source": []
  },
  {
   "cell_type": "code",
   "execution_count": null,
   "id": "bd244fcf",
   "metadata": {},
   "outputs": [],
   "source": []
  },
  {
   "cell_type": "markdown",
   "id": "0941fcab",
   "metadata": {},
   "source": [
    "# preprocessing ratings dataset"
   ]
  },
  {
   "cell_type": "code",
   "execution_count": 61,
   "id": "f9eb1e4c",
   "metadata": {},
   "outputs": [
    {
     "data": {
      "text/html": [
       "<div>\n",
       "<style scoped>\n",
       "    .dataframe tbody tr th:only-of-type {\n",
       "        vertical-align: middle;\n",
       "    }\n",
       "\n",
       "    .dataframe tbody tr th {\n",
       "        vertical-align: top;\n",
       "    }\n",
       "\n",
       "    .dataframe thead th {\n",
       "        text-align: right;\n",
       "    }\n",
       "</style>\n",
       "<table border=\"1\" class=\"dataframe\">\n",
       "  <thead>\n",
       "    <tr style=\"text-align: right;\">\n",
       "      <th></th>\n",
       "      <th>User-ID</th>\n",
       "      <th>ISBN</th>\n",
       "      <th>Book-Rating</th>\n",
       "    </tr>\n",
       "  </thead>\n",
       "  <tbody>\n",
       "    <tr>\n",
       "      <th>0</th>\n",
       "      <td>276725</td>\n",
       "      <td>034545104X</td>\n",
       "      <td>0</td>\n",
       "    </tr>\n",
       "    <tr>\n",
       "      <th>1</th>\n",
       "      <td>276726</td>\n",
       "      <td>0155061224</td>\n",
       "      <td>5</td>\n",
       "    </tr>\n",
       "    <tr>\n",
       "      <th>2</th>\n",
       "      <td>276727</td>\n",
       "      <td>0446520802</td>\n",
       "      <td>0</td>\n",
       "    </tr>\n",
       "    <tr>\n",
       "      <th>3</th>\n",
       "      <td>276729</td>\n",
       "      <td>052165615X</td>\n",
       "      <td>3</td>\n",
       "    </tr>\n",
       "    <tr>\n",
       "      <th>4</th>\n",
       "      <td>276729</td>\n",
       "      <td>0521795028</td>\n",
       "      <td>6</td>\n",
       "    </tr>\n",
       "  </tbody>\n",
       "</table>\n",
       "</div>"
      ],
      "text/plain": [
       "   User-ID        ISBN  Book-Rating\n",
       "0   276725  034545104X            0\n",
       "1   276726  0155061224            5\n",
       "2   276727  0446520802            0\n",
       "3   276729  052165615X            3\n",
       "4   276729  0521795028            6"
      ]
     },
     "execution_count": 61,
     "metadata": {},
     "output_type": "execute_result"
    }
   ],
   "source": [
    "ratings.head()"
   ]
  },
  {
   "cell_type": "code",
   "execution_count": 62,
   "id": "60b48d9d",
   "metadata": {},
   "outputs": [
    {
     "name": "stdout",
     "output_type": "stream",
     "text": [
      "<class 'pandas.core.frame.DataFrame'>\n",
      "RangeIndex: 1149780 entries, 0 to 1149779\n",
      "Data columns (total 3 columns):\n",
      " #   Column       Non-Null Count    Dtype \n",
      "---  ------       --------------    ----- \n",
      " 0   User-ID      1149780 non-null  int64 \n",
      " 1   ISBN         1149780 non-null  object\n",
      " 2   Book-Rating  1149780 non-null  int64 \n",
      "dtypes: int64(2), object(1)\n",
      "memory usage: 26.3+ MB\n"
     ]
    }
   ],
   "source": [
    "ratings.info() #no notnull values"
   ]
  },
  {
   "cell_type": "markdown",
   "id": "2714c616",
   "metadata": {},
   "source": [
    "## checking if all ratings are ints"
   ]
  },
  {
   "cell_type": "code",
   "execution_count": 63,
   "id": "553c51e3",
   "metadata": {},
   "outputs": [
    {
     "data": {
      "text/plain": [
       "[0, 1, 2, 3, 4, 5, 6, 7, 8, 9, 10]"
      ]
     },
     "execution_count": 63,
     "metadata": {},
     "output_type": "execute_result"
    }
   ],
   "source": [
    "sorted(list(ratings['Book-Rating'].unique()))"
   ]
  },
  {
   "cell_type": "code",
   "execution_count": 64,
   "id": "74dd1d44",
   "metadata": {},
   "outputs": [],
   "source": [
    "import re"
   ]
  },
  {
   "cell_type": "code",
   "execution_count": 65,
   "id": "f072c343",
   "metadata": {},
   "outputs": [],
   "source": [
    "# ## checking ISBN\n",
    "# flag = 0\n",
    "# k =[]\n",
    "# reg = \"[^A-Za-z0-9]\"\n",
    "\n",
    "# for x in ratings['ISBN']:\n",
    "#     z = re.search(reg,x)    \n",
    "#     if z:\n",
    "#         flag = 1\n",
    "#     if flag == 1:\n",
    "#         print(\"False\")\n",
    "#     else:\n",
    "#         print(\"True\")"
   ]
  },
  {
   "cell_type": "code",
   "execution_count": 66,
   "id": "e9b28d6a",
   "metadata": {},
   "outputs": [
    {
     "data": {
      "text/html": [
       "<div>\n",
       "<style scoped>\n",
       "    .dataframe tbody tr th:only-of-type {\n",
       "        vertical-align: middle;\n",
       "    }\n",
       "\n",
       "    .dataframe tbody tr th {\n",
       "        vertical-align: top;\n",
       "    }\n",
       "\n",
       "    .dataframe thead th {\n",
       "        text-align: right;\n",
       "    }\n",
       "</style>\n",
       "<table border=\"1\" class=\"dataframe\">\n",
       "  <thead>\n",
       "    <tr style=\"text-align: right;\">\n",
       "      <th></th>\n",
       "      <th>User-ID</th>\n",
       "      <th>ISBN</th>\n",
       "      <th>Book-Rating</th>\n",
       "    </tr>\n",
       "  </thead>\n",
       "  <tbody>\n",
       "    <tr>\n",
       "      <th>0</th>\n",
       "      <td>276725</td>\n",
       "      <td>034545104X</td>\n",
       "      <td>0</td>\n",
       "    </tr>\n",
       "    <tr>\n",
       "      <th>1</th>\n",
       "      <td>276726</td>\n",
       "      <td>0155061224</td>\n",
       "      <td>5</td>\n",
       "    </tr>\n",
       "    <tr>\n",
       "      <th>2</th>\n",
       "      <td>276727</td>\n",
       "      <td>0446520802</td>\n",
       "      <td>0</td>\n",
       "    </tr>\n",
       "    <tr>\n",
       "      <th>3</th>\n",
       "      <td>276729</td>\n",
       "      <td>052165615X</td>\n",
       "      <td>3</td>\n",
       "    </tr>\n",
       "    <tr>\n",
       "      <th>4</th>\n",
       "      <td>276729</td>\n",
       "      <td>0521795028</td>\n",
       "      <td>6</td>\n",
       "    </tr>\n",
       "    <tr>\n",
       "      <th>...</th>\n",
       "      <td>...</td>\n",
       "      <td>...</td>\n",
       "      <td>...</td>\n",
       "    </tr>\n",
       "    <tr>\n",
       "      <th>1149775</th>\n",
       "      <td>276704</td>\n",
       "      <td>1563526298</td>\n",
       "      <td>9</td>\n",
       "    </tr>\n",
       "    <tr>\n",
       "      <th>1149776</th>\n",
       "      <td>276706</td>\n",
       "      <td>0679447156</td>\n",
       "      <td>0</td>\n",
       "    </tr>\n",
       "    <tr>\n",
       "      <th>1149777</th>\n",
       "      <td>276709</td>\n",
       "      <td>0515107662</td>\n",
       "      <td>10</td>\n",
       "    </tr>\n",
       "    <tr>\n",
       "      <th>1149778</th>\n",
       "      <td>276721</td>\n",
       "      <td>0590442449</td>\n",
       "      <td>10</td>\n",
       "    </tr>\n",
       "    <tr>\n",
       "      <th>1149779</th>\n",
       "      <td>276723</td>\n",
       "      <td>05162443314</td>\n",
       "      <td>8</td>\n",
       "    </tr>\n",
       "  </tbody>\n",
       "</table>\n",
       "<p>1149780 rows × 3 columns</p>\n",
       "</div>"
      ],
      "text/plain": [
       "         User-ID         ISBN  Book-Rating\n",
       "0         276725   034545104X            0\n",
       "1         276726   0155061224            5\n",
       "2         276727   0446520802            0\n",
       "3         276729   052165615X            3\n",
       "4         276729   0521795028            6\n",
       "...          ...          ...          ...\n",
       "1149775   276704   1563526298            9\n",
       "1149776   276706   0679447156            0\n",
       "1149777   276709   0515107662           10\n",
       "1149778   276721   0590442449           10\n",
       "1149779   276723  05162443314            8\n",
       "\n",
       "[1149780 rows x 3 columns]"
      ]
     },
     "execution_count": 66,
     "metadata": {},
     "output_type": "execute_result"
    }
   ],
   "source": [
    "ratings"
   ]
  },
  {
   "cell_type": "code",
   "execution_count": 67,
   "id": "9686e189",
   "metadata": {},
   "outputs": [],
   "source": [
    "## removing extra characters from ISBN (from ratings dataset) existing in books dataset\n",
    "bookISBN = books['ISBN'].tolist() \n",
    "reg = \"[^A-Za-z0-9]\" \n",
    "for index, row_Value in ratings.iterrows():\n",
    "    z = re.search(reg, row_Value['ISBN'])    \n",
    "    if z:\n",
    "        f = re.sub(reg,\"\",row_Value['ISBN'])\n",
    "        if f in bookISBN:\n",
    "            ratings.at[index , 'ISBN'] = f"
   ]
  },
  {
   "cell_type": "code",
   "execution_count": 73,
   "id": "caeca366",
   "metadata": {},
   "outputs": [
    {
     "data": {
      "text/html": [
       "<div>\n",
       "<style scoped>\n",
       "    .dataframe tbody tr th:only-of-type {\n",
       "        vertical-align: middle;\n",
       "    }\n",
       "\n",
       "    .dataframe tbody tr th {\n",
       "        vertical-align: top;\n",
       "    }\n",
       "\n",
       "    .dataframe thead th {\n",
       "        text-align: right;\n",
       "    }\n",
       "</style>\n",
       "<table border=\"1\" class=\"dataframe\">\n",
       "  <thead>\n",
       "    <tr style=\"text-align: right;\">\n",
       "      <th></th>\n",
       "      <th>User-ID</th>\n",
       "      <th>ISBN</th>\n",
       "      <th>Book-Rating</th>\n",
       "    </tr>\n",
       "  </thead>\n",
       "  <tbody>\n",
       "    <tr>\n",
       "      <th>0</th>\n",
       "      <td>276725</td>\n",
       "      <td>034545104X</td>\n",
       "      <td>0</td>\n",
       "    </tr>\n",
       "    <tr>\n",
       "      <th>1</th>\n",
       "      <td>276726</td>\n",
       "      <td>0155061224</td>\n",
       "      <td>5</td>\n",
       "    </tr>\n",
       "    <tr>\n",
       "      <th>2</th>\n",
       "      <td>276727</td>\n",
       "      <td>0446520802</td>\n",
       "      <td>0</td>\n",
       "    </tr>\n",
       "    <tr>\n",
       "      <th>3</th>\n",
       "      <td>276729</td>\n",
       "      <td>052165615X</td>\n",
       "      <td>3</td>\n",
       "    </tr>\n",
       "    <tr>\n",
       "      <th>4</th>\n",
       "      <td>276729</td>\n",
       "      <td>0521795028</td>\n",
       "      <td>6</td>\n",
       "    </tr>\n",
       "  </tbody>\n",
       "</table>\n",
       "</div>"
      ],
      "text/plain": [
       "   User-ID        ISBN  Book-Rating\n",
       "0   276725  034545104X            0\n",
       "1   276726  0155061224            5\n",
       "2   276727  0446520802            0\n",
       "3   276729  052165615X            3\n",
       "4   276729  0521795028            6"
      ]
     },
     "execution_count": 73,
     "metadata": {},
     "output_type": "execute_result"
    }
   ],
   "source": [
    "ratings.head()"
   ]
  },
  {
   "cell_type": "code",
   "execution_count": 69,
   "id": "522b7f24",
   "metadata": {},
   "outputs": [],
   "source": [
    "ratings['ISBN'] = ratings['ISBN'].str.upper()\n"
   ]
  },
  {
   "cell_type": "code",
   "execution_count": 70,
   "id": "4f5e19bf",
   "metadata": {},
   "outputs": [],
   "source": [
    "## Drop duplicate rows\n",
    "ratings.drop_duplicates(keep='last', inplace=True)\n",
    "ratings.reset_index(drop=True, inplace=True)"
   ]
  },
  {
   "cell_type": "code",
   "execution_count": 71,
   "id": "6f9022e8",
   "metadata": {},
   "outputs": [
    {
     "name": "stdout",
     "output_type": "stream",
     "text": [
      "<class 'pandas.core.frame.DataFrame'>\n",
      "RangeIndex: 1149776 entries, 0 to 1149775\n",
      "Data columns (total 3 columns):\n",
      " #   Column       Non-Null Count    Dtype \n",
      "---  ------       --------------    ----- \n",
      " 0   User-ID      1149776 non-null  int64 \n",
      " 1   ISBN         1149776 non-null  object\n",
      " 2   Book-Rating  1149776 non-null  int64 \n",
      "dtypes: int64(2), object(1)\n",
      "memory usage: 26.3+ MB\n"
     ]
    }
   ],
   "source": [
    "ratings.info()\n"
   ]
  },
  {
   "cell_type": "code",
   "execution_count": 72,
   "id": "e71eec47",
   "metadata": {},
   "outputs": [
    {
     "data": {
      "text/html": [
       "<div>\n",
       "<style scoped>\n",
       "    .dataframe tbody tr th:only-of-type {\n",
       "        vertical-align: middle;\n",
       "    }\n",
       "\n",
       "    .dataframe tbody tr th {\n",
       "        vertical-align: top;\n",
       "    }\n",
       "\n",
       "    .dataframe thead th {\n",
       "        text-align: right;\n",
       "    }\n",
       "</style>\n",
       "<table border=\"1\" class=\"dataframe\">\n",
       "  <thead>\n",
       "    <tr style=\"text-align: right;\">\n",
       "      <th></th>\n",
       "      <th>User-ID</th>\n",
       "      <th>ISBN</th>\n",
       "      <th>Book-Rating</th>\n",
       "    </tr>\n",
       "  </thead>\n",
       "  <tbody>\n",
       "    <tr>\n",
       "      <th>0</th>\n",
       "      <td>276725</td>\n",
       "      <td>034545104X</td>\n",
       "      <td>0</td>\n",
       "    </tr>\n",
       "    <tr>\n",
       "      <th>1</th>\n",
       "      <td>276726</td>\n",
       "      <td>0155061224</td>\n",
       "      <td>5</td>\n",
       "    </tr>\n",
       "    <tr>\n",
       "      <th>2</th>\n",
       "      <td>276727</td>\n",
       "      <td>0446520802</td>\n",
       "      <td>0</td>\n",
       "    </tr>\n",
       "    <tr>\n",
       "      <th>3</th>\n",
       "      <td>276729</td>\n",
       "      <td>052165615X</td>\n",
       "      <td>3</td>\n",
       "    </tr>\n",
       "    <tr>\n",
       "      <th>4</th>\n",
       "      <td>276729</td>\n",
       "      <td>0521795028</td>\n",
       "      <td>6</td>\n",
       "    </tr>\n",
       "  </tbody>\n",
       "</table>\n",
       "</div>"
      ],
      "text/plain": [
       "   User-ID        ISBN  Book-Rating\n",
       "0   276725  034545104X            0\n",
       "1   276726  0155061224            5\n",
       "2   276727  0446520802            0\n",
       "3   276729  052165615X            3\n",
       "4   276729  0521795028            6"
      ]
     },
     "execution_count": 72,
     "metadata": {},
     "output_type": "execute_result"
    }
   ],
   "source": [
    "ratings.head()\n"
   ]
  },
  {
   "cell_type": "markdown",
   "id": "dbc773d5",
   "metadata": {},
   "source": [
    "# Merging of all three Tables"
   ]
  },
  {
   "cell_type": "code",
   "execution_count": 74,
   "id": "29b06e27",
   "metadata": {},
   "outputs": [
    {
     "name": "stdout",
     "output_type": "stream",
     "text": [
      "<class 'pandas.core.frame.DataFrame'>\n",
      "Int64Index: 1045297 entries, 0 to 1045296\n",
      "Data columns (total 12 columns):\n",
      " #   Column               Non-Null Count    Dtype  \n",
      "---  ------               --------------    -----  \n",
      " 0   index                1045297 non-null  int64  \n",
      " 1   ISBN                 1045297 non-null  object \n",
      " 2   Book-Title           1045297 non-null  object \n",
      " 3   Book-Author          1045297 non-null  object \n",
      " 4   Year-Of-Publication  1045297 non-null  int32  \n",
      " 5   Publisher            1045297 non-null  object \n",
      " 6   User-ID              1045297 non-null  int64  \n",
      " 7   Book-Rating          1045297 non-null  int64  \n",
      " 8   Age                  1045297 non-null  float64\n",
      " 9   city                 1045297 non-null  object \n",
      " 10  state                1045297 non-null  object \n",
      " 11  country              1045297 non-null  object \n",
      "dtypes: float64(1), int32(1), int64(3), object(7)\n",
      "memory usage: 99.7+ MB\n"
     ]
    }
   ],
   "source": [
    "df = pd.merge(books, ratings, on='ISBN', how='inner')\n",
    "df = pd.merge(df, users, on='User-ID', how='inner')\n",
    "df.info()"
   ]
  },
  {
   "cell_type": "code",
   "execution_count": 75,
   "id": "b00fc14e",
   "metadata": {},
   "outputs": [
    {
     "data": {
      "text/html": [
       "<div>\n",
       "<style scoped>\n",
       "    .dataframe tbody tr th:only-of-type {\n",
       "        vertical-align: middle;\n",
       "    }\n",
       "\n",
       "    .dataframe tbody tr th {\n",
       "        vertical-align: top;\n",
       "    }\n",
       "\n",
       "    .dataframe thead th {\n",
       "        text-align: right;\n",
       "    }\n",
       "</style>\n",
       "<table border=\"1\" class=\"dataframe\">\n",
       "  <thead>\n",
       "    <tr style=\"text-align: right;\">\n",
       "      <th></th>\n",
       "      <th>index</th>\n",
       "      <th>ISBN</th>\n",
       "      <th>Book-Title</th>\n",
       "      <th>Book-Author</th>\n",
       "      <th>Year-Of-Publication</th>\n",
       "      <th>Publisher</th>\n",
       "      <th>User-ID</th>\n",
       "      <th>Book-Rating</th>\n",
       "      <th>Age</th>\n",
       "      <th>city</th>\n",
       "      <th>state</th>\n",
       "      <th>country</th>\n",
       "    </tr>\n",
       "  </thead>\n",
       "  <tbody>\n",
       "    <tr>\n",
       "      <th>0</th>\n",
       "      <td>0</td>\n",
       "      <td>0195153448</td>\n",
       "      <td>Classical Mythology</td>\n",
       "      <td>Mark P. O. Morford</td>\n",
       "      <td>2002</td>\n",
       "      <td>Oxford University Press</td>\n",
       "      <td>2</td>\n",
       "      <td>0</td>\n",
       "      <td>18.0</td>\n",
       "      <td>stockton</td>\n",
       "      <td>california</td>\n",
       "      <td>usa</td>\n",
       "    </tr>\n",
       "    <tr>\n",
       "      <th>1</th>\n",
       "      <td>1</td>\n",
       "      <td>0002005018</td>\n",
       "      <td>Clara Callan</td>\n",
       "      <td>Richard Bruce Wright</td>\n",
       "      <td>2001</td>\n",
       "      <td>HarperFlamingo Canada</td>\n",
       "      <td>8</td>\n",
       "      <td>5</td>\n",
       "      <td>35.0</td>\n",
       "      <td>timmins</td>\n",
       "      <td>ontario</td>\n",
       "      <td>canada</td>\n",
       "    </tr>\n",
       "    <tr>\n",
       "      <th>2</th>\n",
       "      <td>2</td>\n",
       "      <td>0060973129</td>\n",
       "      <td>Decision in Normandy</td>\n",
       "      <td>Carlo D'Este</td>\n",
       "      <td>1991</td>\n",
       "      <td>HarperPerennial</td>\n",
       "      <td>8</td>\n",
       "      <td>0</td>\n",
       "      <td>35.0</td>\n",
       "      <td>timmins</td>\n",
       "      <td>ontario</td>\n",
       "      <td>canada</td>\n",
       "    </tr>\n",
       "    <tr>\n",
       "      <th>3</th>\n",
       "      <td>3</td>\n",
       "      <td>0374157065</td>\n",
       "      <td>Flu: The Story of the Great Influenza Pandemic...</td>\n",
       "      <td>Gina Bari Kolata</td>\n",
       "      <td>1999</td>\n",
       "      <td>Farrar Straus Giroux</td>\n",
       "      <td>8</td>\n",
       "      <td>0</td>\n",
       "      <td>35.0</td>\n",
       "      <td>timmins</td>\n",
       "      <td>ontario</td>\n",
       "      <td>canada</td>\n",
       "    </tr>\n",
       "    <tr>\n",
       "      <th>4</th>\n",
       "      <td>4</td>\n",
       "      <td>0393045218</td>\n",
       "      <td>The Mummies of Urumchi</td>\n",
       "      <td>E. J. W. Barber</td>\n",
       "      <td>1999</td>\n",
       "      <td>W. W. Norton &amp;amp; Company</td>\n",
       "      <td>8</td>\n",
       "      <td>0</td>\n",
       "      <td>35.0</td>\n",
       "      <td>timmins</td>\n",
       "      <td>ontario</td>\n",
       "      <td>canada</td>\n",
       "    </tr>\n",
       "  </tbody>\n",
       "</table>\n",
       "</div>"
      ],
      "text/plain": [
       "   index        ISBN                                         Book-Title  \\\n",
       "0      0  0195153448                                Classical Mythology   \n",
       "1      1  0002005018                                       Clara Callan   \n",
       "2      2  0060973129                               Decision in Normandy   \n",
       "3      3  0374157065  Flu: The Story of the Great Influenza Pandemic...   \n",
       "4      4  0393045218                             The Mummies of Urumchi   \n",
       "\n",
       "            Book-Author  Year-Of-Publication                   Publisher  \\\n",
       "0    Mark P. O. Morford                 2002     Oxford University Press   \n",
       "1  Richard Bruce Wright                 2001       HarperFlamingo Canada   \n",
       "2          Carlo D'Este                 1991             HarperPerennial   \n",
       "3      Gina Bari Kolata                 1999        Farrar Straus Giroux   \n",
       "4       E. J. W. Barber                 1999  W. W. Norton &amp; Company   \n",
       "\n",
       "   User-ID  Book-Rating   Age      city       state country  \n",
       "0        2            0  18.0  stockton  california     usa  \n",
       "1        8            5  35.0   timmins     ontario  canada  \n",
       "2        8            0  35.0   timmins     ontario  canada  \n",
       "3        8            0  35.0   timmins     ontario  canada  \n",
       "4        8            0  35.0   timmins     ontario  canada  "
      ]
     },
     "execution_count": 75,
     "metadata": {},
     "output_type": "execute_result"
    }
   ],
   "source": [
    "df.head()"
   ]
  },
  {
   "cell_type": "code",
   "execution_count": 77,
   "id": "3b3a19fe",
   "metadata": {},
   "outputs": [
    {
     "data": {
      "text/plain": [
       "(389524, 12)"
      ]
     },
     "execution_count": 77,
     "metadata": {},
     "output_type": "execute_result"
    }
   ],
   "source": [
    "## which has rating\n",
    "df1 = df[df['Book-Rating'] != 0]\n",
    "df1 = df1.reset_index(drop = True)\n",
    "df1.shape"
   ]
  },
  {
   "cell_type": "code",
   "execution_count": 78,
   "id": "737cd5d7",
   "metadata": {},
   "outputs": [
    {
     "data": {
      "text/plain": [
       "(655773, 12)"
      ]
     },
     "execution_count": 78,
     "metadata": {},
     "output_type": "execute_result"
    }
   ],
   "source": [
    "## which doesnt have ratings\n",
    "df2 = df[df['Book-Rating'] == 0]\n",
    "df2 = df2.reset_index(drop = True)\n",
    "df2.shape"
   ]
  },
  {
   "cell_type": "code",
   "execution_count": 79,
   "id": "55ac3df2",
   "metadata": {},
   "outputs": [
    {
     "data": {
      "text/html": [
       "<div>\n",
       "<style scoped>\n",
       "    .dataframe tbody tr th:only-of-type {\n",
       "        vertical-align: middle;\n",
       "    }\n",
       "\n",
       "    .dataframe tbody tr th {\n",
       "        vertical-align: top;\n",
       "    }\n",
       "\n",
       "    .dataframe thead th {\n",
       "        text-align: right;\n",
       "    }\n",
       "</style>\n",
       "<table border=\"1\" class=\"dataframe\">\n",
       "  <thead>\n",
       "    <tr style=\"text-align: right;\">\n",
       "      <th></th>\n",
       "      <th>index</th>\n",
       "      <th>ISBN</th>\n",
       "      <th>Book-Title</th>\n",
       "      <th>Book-Author</th>\n",
       "      <th>Year-Of-Publication</th>\n",
       "      <th>Publisher</th>\n",
       "      <th>User-ID</th>\n",
       "      <th>Book-Rating</th>\n",
       "      <th>Age</th>\n",
       "      <th>city</th>\n",
       "      <th>state</th>\n",
       "      <th>country</th>\n",
       "    </tr>\n",
       "  </thead>\n",
       "  <tbody>\n",
       "    <tr>\n",
       "      <th>0</th>\n",
       "      <td>1</td>\n",
       "      <td>0002005018</td>\n",
       "      <td>Clara Callan</td>\n",
       "      <td>Richard Bruce Wright</td>\n",
       "      <td>2001</td>\n",
       "      <td>HarperFlamingo Canada</td>\n",
       "      <td>8</td>\n",
       "      <td>5</td>\n",
       "      <td>35.0</td>\n",
       "      <td>timmins</td>\n",
       "      <td>ontario</td>\n",
       "      <td>canada</td>\n",
       "    </tr>\n",
       "    <tr>\n",
       "      <th>1</th>\n",
       "      <td>9</td>\n",
       "      <td>074322678X</td>\n",
       "      <td>Where You'll Find Me: And Other Stories</td>\n",
       "      <td>Ann Beattie</td>\n",
       "      <td>2002</td>\n",
       "      <td>Scribner</td>\n",
       "      <td>8</td>\n",
       "      <td>5</td>\n",
       "      <td>35.0</td>\n",
       "      <td>timmins</td>\n",
       "      <td>ontario</td>\n",
       "      <td>canada</td>\n",
       "    </tr>\n",
       "    <tr>\n",
       "      <th>2</th>\n",
       "      <td>12</td>\n",
       "      <td>0887841740</td>\n",
       "      <td>The Middle Stories</td>\n",
       "      <td>Sheila Heti</td>\n",
       "      <td>2004</td>\n",
       "      <td>House of Anansi Press</td>\n",
       "      <td>8</td>\n",
       "      <td>5</td>\n",
       "      <td>35.0</td>\n",
       "      <td>timmins</td>\n",
       "      <td>ontario</td>\n",
       "      <td>canada</td>\n",
       "    </tr>\n",
       "    <tr>\n",
       "      <th>3</th>\n",
       "      <td>13</td>\n",
       "      <td>1552041778</td>\n",
       "      <td>Jane Doe</td>\n",
       "      <td>R. J. Kaiser</td>\n",
       "      <td>1999</td>\n",
       "      <td>Mira Books</td>\n",
       "      <td>8</td>\n",
       "      <td>5</td>\n",
       "      <td>35.0</td>\n",
       "      <td>timmins</td>\n",
       "      <td>ontario</td>\n",
       "      <td>canada</td>\n",
       "    </tr>\n",
       "    <tr>\n",
       "      <th>4</th>\n",
       "      <td>15</td>\n",
       "      <td>1567407781</td>\n",
       "      <td>The Witchfinder (Amos Walker Mystery Series)</td>\n",
       "      <td>Loren D. Estleman</td>\n",
       "      <td>1998</td>\n",
       "      <td>Brilliance Audio - Trade</td>\n",
       "      <td>8</td>\n",
       "      <td>6</td>\n",
       "      <td>35.0</td>\n",
       "      <td>timmins</td>\n",
       "      <td>ontario</td>\n",
       "      <td>canada</td>\n",
       "    </tr>\n",
       "  </tbody>\n",
       "</table>\n",
       "</div>"
      ],
      "text/plain": [
       "   index        ISBN                                    Book-Title  \\\n",
       "0      1  0002005018                                  Clara Callan   \n",
       "1      9  074322678X       Where You'll Find Me: And Other Stories   \n",
       "2     12  0887841740                            The Middle Stories   \n",
       "3     13  1552041778                                      Jane Doe   \n",
       "4     15  1567407781  The Witchfinder (Amos Walker Mystery Series)   \n",
       "\n",
       "            Book-Author  Year-Of-Publication                 Publisher  \\\n",
       "0  Richard Bruce Wright                 2001     HarperFlamingo Canada   \n",
       "1           Ann Beattie                 2002                  Scribner   \n",
       "2           Sheila Heti                 2004     House of Anansi Press   \n",
       "3          R. J. Kaiser                 1999                Mira Books   \n",
       "4     Loren D. Estleman                 1998  Brilliance Audio - Trade   \n",
       "\n",
       "   User-ID  Book-Rating   Age     city    state country  \n",
       "0        8            5  35.0  timmins  ontario  canada  \n",
       "1        8            5  35.0  timmins  ontario  canada  \n",
       "2        8            5  35.0  timmins  ontario  canada  \n",
       "3        8            5  35.0  timmins  ontario  canada  \n",
       "4        8            6  35.0  timmins  ontario  canada  "
      ]
     },
     "execution_count": 79,
     "metadata": {},
     "output_type": "execute_result"
    }
   ],
   "source": [
    "df1.head()"
   ]
  },
  {
   "cell_type": "code",
   "execution_count": 80,
   "id": "3e150908",
   "metadata": {},
   "outputs": [
    {
     "data": {
      "text/html": [
       "<div>\n",
       "<style scoped>\n",
       "    .dataframe tbody tr th:only-of-type {\n",
       "        vertical-align: middle;\n",
       "    }\n",
       "\n",
       "    .dataframe tbody tr th {\n",
       "        vertical-align: top;\n",
       "    }\n",
       "\n",
       "    .dataframe thead th {\n",
       "        text-align: right;\n",
       "    }\n",
       "</style>\n",
       "<table border=\"1\" class=\"dataframe\">\n",
       "  <thead>\n",
       "    <tr style=\"text-align: right;\">\n",
       "      <th></th>\n",
       "      <th>index</th>\n",
       "      <th>ISBN</th>\n",
       "      <th>Book-Title</th>\n",
       "      <th>Book-Author</th>\n",
       "      <th>Year-Of-Publication</th>\n",
       "      <th>Publisher</th>\n",
       "      <th>User-ID</th>\n",
       "      <th>Book-Rating</th>\n",
       "      <th>Age</th>\n",
       "      <th>city</th>\n",
       "      <th>state</th>\n",
       "      <th>country</th>\n",
       "    </tr>\n",
       "  </thead>\n",
       "  <tbody>\n",
       "    <tr>\n",
       "      <th>0</th>\n",
       "      <td>0</td>\n",
       "      <td>0195153448</td>\n",
       "      <td>Classical Mythology</td>\n",
       "      <td>Mark P. O. Morford</td>\n",
       "      <td>2002</td>\n",
       "      <td>Oxford University Press</td>\n",
       "      <td>2</td>\n",
       "      <td>0</td>\n",
       "      <td>18.0</td>\n",
       "      <td>stockton</td>\n",
       "      <td>california</td>\n",
       "      <td>usa</td>\n",
       "    </tr>\n",
       "    <tr>\n",
       "      <th>1</th>\n",
       "      <td>2</td>\n",
       "      <td>0060973129</td>\n",
       "      <td>Decision in Normandy</td>\n",
       "      <td>Carlo D'Este</td>\n",
       "      <td>1991</td>\n",
       "      <td>HarperPerennial</td>\n",
       "      <td>8</td>\n",
       "      <td>0</td>\n",
       "      <td>35.0</td>\n",
       "      <td>timmins</td>\n",
       "      <td>ontario</td>\n",
       "      <td>canada</td>\n",
       "    </tr>\n",
       "    <tr>\n",
       "      <th>2</th>\n",
       "      <td>3</td>\n",
       "      <td>0374157065</td>\n",
       "      <td>Flu: The Story of the Great Influenza Pandemic...</td>\n",
       "      <td>Gina Bari Kolata</td>\n",
       "      <td>1999</td>\n",
       "      <td>Farrar Straus Giroux</td>\n",
       "      <td>8</td>\n",
       "      <td>0</td>\n",
       "      <td>35.0</td>\n",
       "      <td>timmins</td>\n",
       "      <td>ontario</td>\n",
       "      <td>canada</td>\n",
       "    </tr>\n",
       "    <tr>\n",
       "      <th>3</th>\n",
       "      <td>4</td>\n",
       "      <td>0393045218</td>\n",
       "      <td>The Mummies of Urumchi</td>\n",
       "      <td>E. J. W. Barber</td>\n",
       "      <td>1999</td>\n",
       "      <td>W. W. Norton &amp;amp; Company</td>\n",
       "      <td>8</td>\n",
       "      <td>0</td>\n",
       "      <td>35.0</td>\n",
       "      <td>timmins</td>\n",
       "      <td>ontario</td>\n",
       "      <td>canada</td>\n",
       "    </tr>\n",
       "    <tr>\n",
       "      <th>4</th>\n",
       "      <td>5</td>\n",
       "      <td>0399135782</td>\n",
       "      <td>The Kitchen God's Wife</td>\n",
       "      <td>Amy Tan</td>\n",
       "      <td>1991</td>\n",
       "      <td>Putnam Pub Group</td>\n",
       "      <td>8</td>\n",
       "      <td>0</td>\n",
       "      <td>35.0</td>\n",
       "      <td>timmins</td>\n",
       "      <td>ontario</td>\n",
       "      <td>canada</td>\n",
       "    </tr>\n",
       "  </tbody>\n",
       "</table>\n",
       "</div>"
      ],
      "text/plain": [
       "   index        ISBN                                         Book-Title  \\\n",
       "0      0  0195153448                                Classical Mythology   \n",
       "1      2  0060973129                               Decision in Normandy   \n",
       "2      3  0374157065  Flu: The Story of the Great Influenza Pandemic...   \n",
       "3      4  0393045218                             The Mummies of Urumchi   \n",
       "4      5  0399135782                             The Kitchen God's Wife   \n",
       "\n",
       "          Book-Author  Year-Of-Publication                   Publisher  \\\n",
       "0  Mark P. O. Morford                 2002     Oxford University Press   \n",
       "1        Carlo D'Este                 1991             HarperPerennial   \n",
       "2    Gina Bari Kolata                 1999        Farrar Straus Giroux   \n",
       "3     E. J. W. Barber                 1999  W. W. Norton &amp; Company   \n",
       "4             Amy Tan                 1991            Putnam Pub Group   \n",
       "\n",
       "   User-ID  Book-Rating   Age      city       state country  \n",
       "0        2            0  18.0  stockton  california     usa  \n",
       "1        8            0  35.0   timmins     ontario  canada  \n",
       "2        8            0  35.0   timmins     ontario  canada  \n",
       "3        8            0  35.0   timmins     ontario  canada  \n",
       "4        8            0  35.0   timmins     ontario  canada  "
      ]
     },
     "execution_count": 80,
     "metadata": {},
     "output_type": "execute_result"
    }
   ],
   "source": [
    "df2.head()"
   ]
  },
  {
   "cell_type": "code",
   "execution_count": 81,
   "id": "29327ba9",
   "metadata": {},
   "outputs": [],
   "source": [
    "users.to_csv(r'new_dataset/users.csv')\n",
    "ratings.to_csv(r'new_dataset/ratings.csv')\n",
    "books.to_csv(r'new_dataset/books.csv')\n",
    "df.to_csv(r'new_dataset/merge.csv')\n",
    "df1.to_csv(r'new_dataset/has_ratings.csv')\n",
    "df2.to_csv(r'new_dataset/no_ratings.csv')"
   ]
  },
  {
   "cell_type": "code",
   "execution_count": null,
   "id": "5aecc2fb",
   "metadata": {},
   "outputs": [],
   "source": []
  }
 ],
 "metadata": {
  "kernelspec": {
   "display_name": "Python 3 (ipykernel)",
   "language": "python",
   "name": "python3"
  },
  "language_info": {
   "codemirror_mode": {
    "name": "ipython",
    "version": 3
   },
   "file_extension": ".py",
   "mimetype": "text/x-python",
   "name": "python",
   "nbconvert_exporter": "python",
   "pygments_lexer": "ipython3",
   "version": "3.9.12"
  }
 },
 "nbformat": 4,
 "nbformat_minor": 5
}
